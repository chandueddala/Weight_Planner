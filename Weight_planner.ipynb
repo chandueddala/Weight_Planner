{
  "nbformat": 4,
  "nbformat_minor": 0,
  "metadata": {
    "colab": {
      "provenance": []
    },
    "kernelspec": {
      "name": "python3",
      "display_name": "Python 3"
    },
    "language_info": {
      "name": "python"
    }
  },
  "cells": [
    {
      "cell_type": "markdown",
      "source": [],
      "metadata": {
        "id": "-6gcdUIlrEQp"
      }
    },
    {
      "cell_type": "code",
      "execution_count": null,
      "metadata": {
        "id": "DEMrqES1b2OQ"
      },
      "outputs": [],
      "source": [
        "import pandas as pd\n",
        "import matplotlib.pyplot as plt"
      ]
    },
    {
      "cell_type": "markdown",
      "source": [
        "#Loading Data Set"
      ],
      "metadata": {
        "id": "TKljzzpyrHkz"
      }
    },
    {
      "cell_type": "code",
      "source": [
        "df=pd.read_csv(\"/content/drive/MyDrive/Calories/RAW_recipes.csv\")"
      ],
      "metadata": {
        "id": "Y8zQCtYPcQ3V"
      },
      "execution_count": null,
      "outputs": []
    },
    {
      "cell_type": "code",
      "source": [
        "df.shape"
      ],
      "metadata": {
        "colab": {
          "base_uri": "https://localhost:8080/"
        },
        "id": "PpykdVe2eSKp",
        "outputId": "0ab51a91-d162-4640-c006-352baa98cead"
      },
      "execution_count": null,
      "outputs": [
        {
          "output_type": "execute_result",
          "data": {
            "text/plain": [
              "(83782, 12)"
            ]
          },
          "metadata": {},
          "execution_count": 34
        }
      ]
    },
    {
      "cell_type": "code",
      "source": [
        "df.columns"
      ],
      "metadata": {
        "colab": {
          "base_uri": "https://localhost:8080/"
        },
        "id": "UH0G_J6YoNwR",
        "outputId": "11f6de8e-e64b-4bb8-f8b0-6f45b62055a0"
      },
      "execution_count": null,
      "outputs": [
        {
          "output_type": "execute_result",
          "data": {
            "text/plain": [
              "Index(['name', 'id', 'minutes', 'contributor_id', 'submitted', 'tags',\n",
              "       'nutrition', 'n_steps', 'steps', 'description', 'ingredients',\n",
              "       'n_ingredients'],\n",
              "      dtype='object')"
            ]
          },
          "metadata": {},
          "execution_count": 29
        }
      ]
    },
    {
      "cell_type": "code",
      "source": [
        "df['steps'][0]"
      ],
      "metadata": {
        "colab": {
          "base_uri": "https://localhost:8080/",
          "height": 109
        },
        "id": "a5sZv3BPoB0A",
        "outputId": "9389d558-581a-4a83-a9f1-096c24a5e661"
      },
      "execution_count": null,
      "outputs": [
        {
          "output_type": "execute_result",
          "data": {
            "text/plain": [
              "\"['heat the oven to 350f and arrange the rack in the middle', 'line an 8-by-8-inch glass baking dish with aluminum foil', 'combine chocolate and butter in a medium saucepan and cook over medium-low heat , stirring frequently , until evenly melted', 'remove from heat and let cool to room temperature', 'combine eggs , sugar , cocoa powder , vanilla extract , espresso , and salt in a large bowl and briefly stir until just evenly incorporated', 'add cooled chocolate and mix until uniform in color', 'add flour and stir until just incorporated', 'transfer batter to the prepared baking dish', 'bake until a tester inserted in the center of the brownies comes out clean , about 25 to 30 minutes', 'remove from the oven and cool completely before cutting']\""
            ],
            "application/vnd.google.colaboratory.intrinsic+json": {
              "type": "string"
            }
          },
          "metadata": {},
          "execution_count": 35
        }
      ]
    },
    {
      "cell_type": "code",
      "source": [
        "df.head()"
      ],
      "metadata": {
        "colab": {
          "base_uri": "https://localhost:8080/",
          "height": 518
        },
        "id": "kq4lXOta7hkr",
        "outputId": "9faa143d-9465-4e75-a087-9519c8c91926"
      },
      "execution_count": null,
      "outputs": [
        {
          "output_type": "execute_result",
          "data": {
            "text/plain": [
              "                                   name      id  minutes  contributor_id  \\\n",
              "0  1 brownies in the world    best ever  333281       40          985201   \n",
              "1    1 in canada chocolate chip cookies  453467       45         1848091   \n",
              "2                412 broccoli casserole  306168       40           50969   \n",
              "3                millionaire pound cake  286009      120          461724   \n",
              "4                         2000 meatloaf  475785       90         2202916   \n",
              "\n",
              "    submitted                                               tags  \\\n",
              "0  2008-10-27  ['60-minutes-or-less', 'time-to-make', 'course...   \n",
              "1  2011-04-11  ['60-minutes-or-less', 'time-to-make', 'cuisin...   \n",
              "2  2008-05-30  ['60-minutes-or-less', 'time-to-make', 'course...   \n",
              "3  2008-02-12  ['time-to-make', 'course', 'cuisine', 'prepara...   \n",
              "4  2012-03-06  ['time-to-make', 'course', 'main-ingredient', ...   \n",
              "\n",
              "                                       nutrition  n_steps  \\\n",
              "0       [138.4, 10.0, 50.0, 3.0, 3.0, 19.0, 6.0]       10   \n",
              "1   [595.1, 46.0, 211.0, 22.0, 13.0, 51.0, 26.0]       12   \n",
              "2      [194.8, 20.0, 6.0, 32.0, 22.0, 36.0, 3.0]        6   \n",
              "3  [878.3, 63.0, 326.0, 13.0, 20.0, 123.0, 39.0]        7   \n",
              "4     [267.0, 30.0, 12.0, 12.0, 29.0, 48.0, 2.0]       17   \n",
              "\n",
              "                                               steps  \\\n",
              "0  ['heat the oven to 350f and arrange the rack i...   \n",
              "1  ['pre-heat oven the 350 degrees f', 'in a mixi...   \n",
              "2  ['preheat oven to 350 degrees', 'spray a 2 qua...   \n",
              "3  ['freheat the oven to 300 degrees', 'grease a ...   \n",
              "4  ['pan fry bacon , and set aside on a paper tow...   \n",
              "\n",
              "                                         description  \\\n",
              "0  these are the most; chocolatey, moist, rich, d...   \n",
              "1  this is the recipe that we use at my school ca...   \n",
              "2  since there are already 411 recipes for brocco...   \n",
              "3  why a millionaire pound cake?  because it's su...   \n",
              "4  ready, set, cook! special edition contest entr...   \n",
              "\n",
              "                                         ingredients  n_ingredients  \n",
              "0  ['bittersweet chocolate', 'unsalted butter', '...              9  \n",
              "1  ['white sugar', 'brown sugar', 'salt', 'margar...             11  \n",
              "2  ['frozen broccoli cuts', 'cream of chicken sou...              9  \n",
              "3  ['butter', 'sugar', 'eggs', 'all-purpose flour...              7  \n",
              "4  ['meatloaf mixture', 'unsmoked bacon', 'goat c...             13  "
            ],
            "text/html": [
              "\n",
              "  <div id=\"df-b6c54701-c528-40b8-b94d-582dd30662dd\" class=\"colab-df-container\">\n",
              "    <div>\n",
              "<style scoped>\n",
              "    .dataframe tbody tr th:only-of-type {\n",
              "        vertical-align: middle;\n",
              "    }\n",
              "\n",
              "    .dataframe tbody tr th {\n",
              "        vertical-align: top;\n",
              "    }\n",
              "\n",
              "    .dataframe thead th {\n",
              "        text-align: right;\n",
              "    }\n",
              "</style>\n",
              "<table border=\"1\" class=\"dataframe\">\n",
              "  <thead>\n",
              "    <tr style=\"text-align: right;\">\n",
              "      <th></th>\n",
              "      <th>name</th>\n",
              "      <th>id</th>\n",
              "      <th>minutes</th>\n",
              "      <th>contributor_id</th>\n",
              "      <th>submitted</th>\n",
              "      <th>tags</th>\n",
              "      <th>nutrition</th>\n",
              "      <th>n_steps</th>\n",
              "      <th>steps</th>\n",
              "      <th>description</th>\n",
              "      <th>ingredients</th>\n",
              "      <th>n_ingredients</th>\n",
              "    </tr>\n",
              "  </thead>\n",
              "  <tbody>\n",
              "    <tr>\n",
              "      <th>0</th>\n",
              "      <td>1 brownies in the world    best ever</td>\n",
              "      <td>333281</td>\n",
              "      <td>40</td>\n",
              "      <td>985201</td>\n",
              "      <td>2008-10-27</td>\n",
              "      <td>['60-minutes-or-less', 'time-to-make', 'course...</td>\n",
              "      <td>[138.4, 10.0, 50.0, 3.0, 3.0, 19.0, 6.0]</td>\n",
              "      <td>10</td>\n",
              "      <td>['heat the oven to 350f and arrange the rack i...</td>\n",
              "      <td>these are the most; chocolatey, moist, rich, d...</td>\n",
              "      <td>['bittersweet chocolate', 'unsalted butter', '...</td>\n",
              "      <td>9</td>\n",
              "    </tr>\n",
              "    <tr>\n",
              "      <th>1</th>\n",
              "      <td>1 in canada chocolate chip cookies</td>\n",
              "      <td>453467</td>\n",
              "      <td>45</td>\n",
              "      <td>1848091</td>\n",
              "      <td>2011-04-11</td>\n",
              "      <td>['60-minutes-or-less', 'time-to-make', 'cuisin...</td>\n",
              "      <td>[595.1, 46.0, 211.0, 22.0, 13.0, 51.0, 26.0]</td>\n",
              "      <td>12</td>\n",
              "      <td>['pre-heat oven the 350 degrees f', 'in a mixi...</td>\n",
              "      <td>this is the recipe that we use at my school ca...</td>\n",
              "      <td>['white sugar', 'brown sugar', 'salt', 'margar...</td>\n",
              "      <td>11</td>\n",
              "    </tr>\n",
              "    <tr>\n",
              "      <th>2</th>\n",
              "      <td>412 broccoli casserole</td>\n",
              "      <td>306168</td>\n",
              "      <td>40</td>\n",
              "      <td>50969</td>\n",
              "      <td>2008-05-30</td>\n",
              "      <td>['60-minutes-or-less', 'time-to-make', 'course...</td>\n",
              "      <td>[194.8, 20.0, 6.0, 32.0, 22.0, 36.0, 3.0]</td>\n",
              "      <td>6</td>\n",
              "      <td>['preheat oven to 350 degrees', 'spray a 2 qua...</td>\n",
              "      <td>since there are already 411 recipes for brocco...</td>\n",
              "      <td>['frozen broccoli cuts', 'cream of chicken sou...</td>\n",
              "      <td>9</td>\n",
              "    </tr>\n",
              "    <tr>\n",
              "      <th>3</th>\n",
              "      <td>millionaire pound cake</td>\n",
              "      <td>286009</td>\n",
              "      <td>120</td>\n",
              "      <td>461724</td>\n",
              "      <td>2008-02-12</td>\n",
              "      <td>['time-to-make', 'course', 'cuisine', 'prepara...</td>\n",
              "      <td>[878.3, 63.0, 326.0, 13.0, 20.0, 123.0, 39.0]</td>\n",
              "      <td>7</td>\n",
              "      <td>['freheat the oven to 300 degrees', 'grease a ...</td>\n",
              "      <td>why a millionaire pound cake?  because it's su...</td>\n",
              "      <td>['butter', 'sugar', 'eggs', 'all-purpose flour...</td>\n",
              "      <td>7</td>\n",
              "    </tr>\n",
              "    <tr>\n",
              "      <th>4</th>\n",
              "      <td>2000 meatloaf</td>\n",
              "      <td>475785</td>\n",
              "      <td>90</td>\n",
              "      <td>2202916</td>\n",
              "      <td>2012-03-06</td>\n",
              "      <td>['time-to-make', 'course', 'main-ingredient', ...</td>\n",
              "      <td>[267.0, 30.0, 12.0, 12.0, 29.0, 48.0, 2.0]</td>\n",
              "      <td>17</td>\n",
              "      <td>['pan fry bacon , and set aside on a paper tow...</td>\n",
              "      <td>ready, set, cook! special edition contest entr...</td>\n",
              "      <td>['meatloaf mixture', 'unsmoked bacon', 'goat c...</td>\n",
              "      <td>13</td>\n",
              "    </tr>\n",
              "  </tbody>\n",
              "</table>\n",
              "</div>\n",
              "    <div class=\"colab-df-buttons\">\n",
              "\n",
              "  <div class=\"colab-df-container\">\n",
              "    <button class=\"colab-df-convert\" onclick=\"convertToInteractive('df-b6c54701-c528-40b8-b94d-582dd30662dd')\"\n",
              "            title=\"Convert this dataframe to an interactive table.\"\n",
              "            style=\"display:none;\">\n",
              "\n",
              "  <svg xmlns=\"http://www.w3.org/2000/svg\" height=\"24px\" viewBox=\"0 -960 960 960\">\n",
              "    <path d=\"M120-120v-720h720v720H120Zm60-500h600v-160H180v160Zm220 220h160v-160H400v160Zm0 220h160v-160H400v160ZM180-400h160v-160H180v160Zm440 0h160v-160H620v160ZM180-180h160v-160H180v160Zm440 0h160v-160H620v160Z\"/>\n",
              "  </svg>\n",
              "    </button>\n",
              "\n",
              "  <style>\n",
              "    .colab-df-container {\n",
              "      display:flex;\n",
              "      gap: 12px;\n",
              "    }\n",
              "\n",
              "    .colab-df-convert {\n",
              "      background-color: #E8F0FE;\n",
              "      border: none;\n",
              "      border-radius: 50%;\n",
              "      cursor: pointer;\n",
              "      display: none;\n",
              "      fill: #1967D2;\n",
              "      height: 32px;\n",
              "      padding: 0 0 0 0;\n",
              "      width: 32px;\n",
              "    }\n",
              "\n",
              "    .colab-df-convert:hover {\n",
              "      background-color: #E2EBFA;\n",
              "      box-shadow: 0px 1px 2px rgba(60, 64, 67, 0.3), 0px 1px 3px 1px rgba(60, 64, 67, 0.15);\n",
              "      fill: #174EA6;\n",
              "    }\n",
              "\n",
              "    .colab-df-buttons div {\n",
              "      margin-bottom: 4px;\n",
              "    }\n",
              "\n",
              "    [theme=dark] .colab-df-convert {\n",
              "      background-color: #3B4455;\n",
              "      fill: #D2E3FC;\n",
              "    }\n",
              "\n",
              "    [theme=dark] .colab-df-convert:hover {\n",
              "      background-color: #434B5C;\n",
              "      box-shadow: 0px 1px 3px 1px rgba(0, 0, 0, 0.15);\n",
              "      filter: drop-shadow(0px 1px 2px rgba(0, 0, 0, 0.3));\n",
              "      fill: #FFFFFF;\n",
              "    }\n",
              "  </style>\n",
              "\n",
              "    <script>\n",
              "      const buttonEl =\n",
              "        document.querySelector('#df-b6c54701-c528-40b8-b94d-582dd30662dd button.colab-df-convert');\n",
              "      buttonEl.style.display =\n",
              "        google.colab.kernel.accessAllowed ? 'block' : 'none';\n",
              "\n",
              "      async function convertToInteractive(key) {\n",
              "        const element = document.querySelector('#df-b6c54701-c528-40b8-b94d-582dd30662dd');\n",
              "        const dataTable =\n",
              "          await google.colab.kernel.invokeFunction('convertToInteractive',\n",
              "                                                    [key], {});\n",
              "        if (!dataTable) return;\n",
              "\n",
              "        const docLinkHtml = 'Like what you see? Visit the ' +\n",
              "          '<a target=\"_blank\" href=https://colab.research.google.com/notebooks/data_table.ipynb>data table notebook</a>'\n",
              "          + ' to learn more about interactive tables.';\n",
              "        element.innerHTML = '';\n",
              "        dataTable['output_type'] = 'display_data';\n",
              "        await google.colab.output.renderOutput(dataTable, element);\n",
              "        const docLink = document.createElement('div');\n",
              "        docLink.innerHTML = docLinkHtml;\n",
              "        element.appendChild(docLink);\n",
              "      }\n",
              "    </script>\n",
              "  </div>\n",
              "\n",
              "\n",
              "    <div id=\"df-6bdcc770-2b40-45d9-80ea-9f5b655b5b7c\">\n",
              "      <button class=\"colab-df-quickchart\" onclick=\"quickchart('df-6bdcc770-2b40-45d9-80ea-9f5b655b5b7c')\"\n",
              "                title=\"Suggest charts\"\n",
              "                style=\"display:none;\">\n",
              "\n",
              "<svg xmlns=\"http://www.w3.org/2000/svg\" height=\"24px\"viewBox=\"0 0 24 24\"\n",
              "     width=\"24px\">\n",
              "    <g>\n",
              "        <path d=\"M19 3H5c-1.1 0-2 .9-2 2v14c0 1.1.9 2 2 2h14c1.1 0 2-.9 2-2V5c0-1.1-.9-2-2-2zM9 17H7v-7h2v7zm4 0h-2V7h2v10zm4 0h-2v-4h2v4z\"/>\n",
              "    </g>\n",
              "</svg>\n",
              "      </button>\n",
              "\n",
              "<style>\n",
              "  .colab-df-quickchart {\n",
              "      --bg-color: #E8F0FE;\n",
              "      --fill-color: #1967D2;\n",
              "      --hover-bg-color: #E2EBFA;\n",
              "      --hover-fill-color: #174EA6;\n",
              "      --disabled-fill-color: #AAA;\n",
              "      --disabled-bg-color: #DDD;\n",
              "  }\n",
              "\n",
              "  [theme=dark] .colab-df-quickchart {\n",
              "      --bg-color: #3B4455;\n",
              "      --fill-color: #D2E3FC;\n",
              "      --hover-bg-color: #434B5C;\n",
              "      --hover-fill-color: #FFFFFF;\n",
              "      --disabled-bg-color: #3B4455;\n",
              "      --disabled-fill-color: #666;\n",
              "  }\n",
              "\n",
              "  .colab-df-quickchart {\n",
              "    background-color: var(--bg-color);\n",
              "    border: none;\n",
              "    border-radius: 50%;\n",
              "    cursor: pointer;\n",
              "    display: none;\n",
              "    fill: var(--fill-color);\n",
              "    height: 32px;\n",
              "    padding: 0;\n",
              "    width: 32px;\n",
              "  }\n",
              "\n",
              "  .colab-df-quickchart:hover {\n",
              "    background-color: var(--hover-bg-color);\n",
              "    box-shadow: 0 1px 2px rgba(60, 64, 67, 0.3), 0 1px 3px 1px rgba(60, 64, 67, 0.15);\n",
              "    fill: var(--button-hover-fill-color);\n",
              "  }\n",
              "\n",
              "  .colab-df-quickchart-complete:disabled,\n",
              "  .colab-df-quickchart-complete:disabled:hover {\n",
              "    background-color: var(--disabled-bg-color);\n",
              "    fill: var(--disabled-fill-color);\n",
              "    box-shadow: none;\n",
              "  }\n",
              "\n",
              "  .colab-df-spinner {\n",
              "    border: 2px solid var(--fill-color);\n",
              "    border-color: transparent;\n",
              "    border-bottom-color: var(--fill-color);\n",
              "    animation:\n",
              "      spin 1s steps(1) infinite;\n",
              "  }\n",
              "\n",
              "  @keyframes spin {\n",
              "    0% {\n",
              "      border-color: transparent;\n",
              "      border-bottom-color: var(--fill-color);\n",
              "      border-left-color: var(--fill-color);\n",
              "    }\n",
              "    20% {\n",
              "      border-color: transparent;\n",
              "      border-left-color: var(--fill-color);\n",
              "      border-top-color: var(--fill-color);\n",
              "    }\n",
              "    30% {\n",
              "      border-color: transparent;\n",
              "      border-left-color: var(--fill-color);\n",
              "      border-top-color: var(--fill-color);\n",
              "      border-right-color: var(--fill-color);\n",
              "    }\n",
              "    40% {\n",
              "      border-color: transparent;\n",
              "      border-right-color: var(--fill-color);\n",
              "      border-top-color: var(--fill-color);\n",
              "    }\n",
              "    60% {\n",
              "      border-color: transparent;\n",
              "      border-right-color: var(--fill-color);\n",
              "    }\n",
              "    80% {\n",
              "      border-color: transparent;\n",
              "      border-right-color: var(--fill-color);\n",
              "      border-bottom-color: var(--fill-color);\n",
              "    }\n",
              "    90% {\n",
              "      border-color: transparent;\n",
              "      border-bottom-color: var(--fill-color);\n",
              "    }\n",
              "  }\n",
              "</style>\n",
              "\n",
              "      <script>\n",
              "        async function quickchart(key) {\n",
              "          const quickchartButtonEl =\n",
              "            document.querySelector('#' + key + ' button');\n",
              "          quickchartButtonEl.disabled = true;  // To prevent multiple clicks.\n",
              "          quickchartButtonEl.classList.add('colab-df-spinner');\n",
              "          try {\n",
              "            const charts = await google.colab.kernel.invokeFunction(\n",
              "                'suggestCharts', [key], {});\n",
              "          } catch (error) {\n",
              "            console.error('Error during call to suggestCharts:', error);\n",
              "          }\n",
              "          quickchartButtonEl.classList.remove('colab-df-spinner');\n",
              "          quickchartButtonEl.classList.add('colab-df-quickchart-complete');\n",
              "        }\n",
              "        (() => {\n",
              "          let quickchartButtonEl =\n",
              "            document.querySelector('#df-6bdcc770-2b40-45d9-80ea-9f5b655b5b7c button');\n",
              "          quickchartButtonEl.style.display =\n",
              "            google.colab.kernel.accessAllowed ? 'block' : 'none';\n",
              "        })();\n",
              "      </script>\n",
              "    </div>\n",
              "\n",
              "    </div>\n",
              "  </div>\n"
            ],
            "application/vnd.google.colaboratory.intrinsic+json": {
              "type": "dataframe",
              "variable_name": "df",
              "summary": "{\n  \"name\": \"df\",\n  \"rows\": 83782,\n  \"fields\": [\n    {\n      \"column\": \"name\",\n      \"properties\": {\n        \"dtype\": \"string\",\n        \"num_unique_values\": 83628,\n        \"samples\": [\n          \"toasted caprese sandwich\",\n          \"teriyaki steak sandwich with a twist\",\n          \"sweet   crunchy chicken broccoli slaw\"\n        ],\n        \"semantic_type\": \"\",\n        \"description\": \"\"\n      }\n    },\n    {\n      \"column\": \"id\",\n      \"properties\": {\n        \"dtype\": \"number\",\n        \"std\": 68715,\n        \"min\": 275022,\n        \"max\": 537716,\n        \"num_unique_values\": 83782,\n        \"samples\": [\n          282111,\n          383356,\n          276939\n        ],\n        \"semantic_type\": \"\",\n        \"description\": \"\"\n      }\n    },\n    {\n      \"column\": \"minutes\",\n      \"properties\": {\n        \"dtype\": \"number\",\n        \"std\": 3990,\n        \"min\": 0,\n        \"max\": 1051200,\n        \"num_unique_values\": 587,\n        \"samples\": [\n          43202,\n          385,\n          5770\n        ],\n        \"semantic_type\": \"\",\n        \"description\": \"\"\n      }\n    },\n    {\n      \"column\": \"contributor_id\",\n      \"properties\": {\n        \"dtype\": \"number\",\n        \"std\": 165502172,\n        \"min\": 1533,\n        \"max\": 2002289981,\n        \"num_unique_values\": 15443,\n        \"samples\": [\n          1911277,\n          1115022,\n          1302341\n        ],\n        \"semantic_type\": \"\",\n        \"description\": \"\"\n      }\n    },\n    {\n      \"column\": \"submitted\",\n      \"properties\": {\n        \"dtype\": \"object\",\n        \"num_unique_values\": 2873,\n        \"samples\": [\n          \"2013-09-04\",\n          \"2010-04-10\",\n          \"2008-10-12\"\n        ],\n        \"semantic_type\": \"\",\n        \"description\": \"\"\n      }\n    },\n    {\n      \"column\": \"tags\",\n      \"properties\": {\n        \"dtype\": \"string\",\n        \"num_unique_values\": 74142,\n        \"samples\": [\n          \"['15-minutes-or-less', 'time-to-make', 'course', 'main-ingredient', 'cuisine', 'preparation', 'occasion', 'north-american', 'for-large-groups', 'low-protein', '5-ingredients-or-less', 'appetizers', 'fruit', 'american', 'easy', 'holiday-event', 'dietary', 'low-sodium', 'low-in-something', 'number-of-servings', '3-steps-or-less']\",\n          \"['weeknight', 'time-to-make', 'course', 'main-ingredient', 'cuisine', 'preparation', 'occasion', 'soups-stews', 'pork', 'vegetables', 'chowders', 'south-american', 'spicy', 'argentine', 'comfort-food', 'peruvian', 'meat', 'pork-sausage', 'corn', 'squash', 'taste-mood', 'presentation', 'served-hot', '4-hours-or-less']\",\n          \"['15-minutes-or-less', 'time-to-make', 'course', 'main-ingredient', 'preparation', '5-ingredients-or-less', 'side-dishes', 'vegetables', 'easy', 'beginner-cook', 'inexpensive', 'green-yellow-beans', '3-steps-or-less']\"\n        ],\n        \"semantic_type\": \"\",\n        \"description\": \"\"\n      }\n    },\n    {\n      \"column\": \"nutrition\",\n      \"properties\": {\n        \"dtype\": \"string\",\n        \"num_unique_values\": 83210,\n        \"samples\": [\n          \"[281.9, 20.0, 26.0, 2.0, 14.0, 39.0, 12.0]\",\n          \"[445.4, 18.0, 81.0, 2.0, 27.0, 31.0, 23.0]\",\n          \"[40.5, 0.0, 5.0, 0.0, 4.0, 0.0, 2.0]\"\n        ],\n        \"semantic_type\": \"\",\n        \"description\": \"\"\n      }\n    },\n    {\n      \"column\": \"n_steps\",\n      \"properties\": {\n        \"dtype\": \"number\",\n        \"std\": 6,\n        \"min\": 1,\n        \"max\": 100,\n        \"num_unique_values\": 84,\n        \"samples\": [\n          59,\n          10,\n          58\n        ],\n        \"semantic_type\": \"\",\n        \"description\": \"\"\n      }\n    },\n    {\n      \"column\": \"steps\",\n      \"properties\": {\n        \"dtype\": \"string\",\n        \"num_unique_values\": 83594,\n        \"samples\": [\n          \"['crumble beef into large bowl', 'add salt', 'sprinkle crumbs and milk', 'let stand a few minutes until crumbs are soft', 'blend together', 'mix in egg and onion , sage , thyme , nutmeg and black pepper , mixing well', 'shape into 4 loaves', 'place on foil-lined baking sheet about 3 inches apart', 'mix brown sugar , catsup , ginger and garlic salt , soy sauce and mustard', 'spread mixture over tops of loaves', 'bake at 350 for 35 minutes']\",\n          \"['in a large saucepan cook celery and onion in hot oil just until tender', 'stir in tomatoes', 'heat through', 'add shrimp , whipping cream , and water', 'cook over medium heat just until hot', 'season to taste with pepper', 'ladle chowder into bowls', 'top with basil', 'serve with foccacia wedges or rolls , if desired']\",\n          \"['preheat oven to 350', 'add olive oil , peppers and onion to a large non-stick skillet and saute until tender', 'add black beans , cumin , chili powder , red pepper and cooked rice to skillet', 'stir to combine', 'remove from heat and stir in cilantro and lime juice', 'set aside', 'spray bottom of baking dish with cooking spray', 'spoon 1 / 8th of mixture into each tortilla , roll up and place into baking dish , seam side down', 'repeat with remaining tortillas', 'pour enchilada sauce evenly over enchiladas , cover with foil and bake 15 minutes', 'remove from oven , uncover and top with shredded cheddar cheese', 'bake 5 minutes longer , or until cheese has melted', 'serve with optional garnishes']\"\n        ],\n        \"semantic_type\": \"\",\n        \"description\": \"\"\n      }\n    },\n    {\n      \"column\": \"description\",\n      \"properties\": {\n        \"dtype\": \"string\",\n        \"num_unique_values\": 82200,\n        \"samples\": [\n          \"low carb snack; best made a few hours before serving.\",\n          \"from www.healthychoice.com --  these delicious chocolate chip cookies contain the goodness of whole grain combined with the sweet indulgence of semi-sweet chocolate morsels.\",\n          \"this is a tasty and easy way to make a  yummy rice.\"\n        ],\n        \"semantic_type\": \"\",\n        \"description\": \"\"\n      }\n    },\n    {\n      \"column\": \"ingredients\",\n      \"properties\": {\n        \"dtype\": \"string\",\n        \"num_unique_values\": 83582,\n        \"samples\": [\n          \"['roasting chicken', 'salt', 'fresh ground pepper', 'avocados', 'lime, juice and zest of', 'lemon, juice and zest of', 'garlic cloves', 'dried chili pepper flakes', 'parsley', 'tabasco sauce', 'honey', 'paprika', 'salt & freshly ground black pepper']\",\n          \"['sausages', 'eggs', 'cream', 'salt and pepper', 'green pepper', 'butter']\",\n          \"['beet juice', 'lemon juice', 'extra virgin olive oil', 'garlic cloves', 'dried thyme', 'sesame seeds', 'salt', 'lettuce', 'carrot', 'green onion', 'beet', 'cucumber']\"\n        ],\n        \"semantic_type\": \"\",\n        \"description\": \"\"\n      }\n    },\n    {\n      \"column\": \"n_ingredients\",\n      \"properties\": {\n        \"dtype\": \"number\",\n        \"std\": 3,\n        \"min\": 1,\n        \"max\": 37,\n        \"num_unique_values\": 34,\n        \"samples\": [\n          17,\n          19,\n          30\n        ],\n        \"semantic_type\": \"\",\n        \"description\": \"\"\n      }\n    }\n  ]\n}"
            }
          },
          "metadata": {},
          "execution_count": 36
        }
      ]
    },
    {
      "cell_type": "code",
      "source": [
        "df['tags'][0]"
      ],
      "metadata": {
        "colab": {
          "base_uri": "https://localhost:8080/",
          "height": 54
        },
        "id": "_cYMFBx47rcS",
        "outputId": "e56ad255-2799-4aff-fbf9-c1accea92410"
      },
      "execution_count": null,
      "outputs": [
        {
          "output_type": "execute_result",
          "data": {
            "text/plain": [
              "\"['60-minutes-or-less', 'time-to-make', 'course', 'main-ingredient', 'preparation', 'for-large-groups', 'desserts', 'lunch', 'snacks', 'cookies-and-brownies', 'chocolate', 'bar-cookies', 'brownies', 'number-of-servings']\""
            ],
            "application/vnd.google.colaboratory.intrinsic+json": {
              "type": "string"
            }
          },
          "metadata": {},
          "execution_count": 37
        }
      ]
    },
    {
      "cell_type": "code",
      "source": [
        "df['ingredients'][0]"
      ],
      "metadata": {
        "colab": {
          "base_uri": "https://localhost:8080/",
          "height": 54
        },
        "id": "rnIGjQcd8HHI",
        "outputId": "18859b73-74bf-4c15-bf30-6c5ab331351f"
      },
      "execution_count": null,
      "outputs": [
        {
          "output_type": "execute_result",
          "data": {
            "text/plain": [
              "\"['bittersweet chocolate', 'unsalted butter', 'eggs', 'granulated sugar', 'unsweetened cocoa powder', 'vanilla extract', 'brewed espresso', 'kosher salt', 'all-purpose flour']\""
            ],
            "application/vnd.google.colaboratory.intrinsic+json": {
              "type": "string"
            }
          },
          "metadata": {},
          "execution_count": 38
        }
      ]
    },
    {
      "cell_type": "markdown",
      "source": [
        "#Classify into Meal Type\n"
      ],
      "metadata": {
        "id": "j98kEZwjheUx"
      }
    },
    {
      "cell_type": "code",
      "source": [
        "df.info()"
      ],
      "metadata": {
        "colab": {
          "base_uri": "https://localhost:8080/"
        },
        "id": "2ouC5lTviue1",
        "outputId": "22b9c1fc-d5c7-4aeb-824c-08846db6fa19"
      },
      "execution_count": null,
      "outputs": [
        {
          "output_type": "stream",
          "name": "stdout",
          "text": [
            "<class 'pandas.core.frame.DataFrame'>\n",
            "RangeIndex: 83782 entries, 0 to 83781\n",
            "Data columns (total 12 columns):\n",
            " #   Column          Non-Null Count  Dtype \n",
            "---  ------          --------------  ----- \n",
            " 0   name            83781 non-null  object\n",
            " 1   id              83782 non-null  int64 \n",
            " 2   minutes         83782 non-null  int64 \n",
            " 3   contributor_id  83782 non-null  int64 \n",
            " 4   submitted       83782 non-null  object\n",
            " 5   tags            83782 non-null  object\n",
            " 6   nutrition       83782 non-null  object\n",
            " 7   n_steps         83782 non-null  int64 \n",
            " 8   steps           83782 non-null  object\n",
            " 9   description     83712 non-null  object\n",
            " 10  ingredients     83782 non-null  object\n",
            " 11  n_ingredients   83782 non-null  int64 \n",
            "dtypes: int64(5), object(7)\n",
            "memory usage: 7.7+ MB\n"
          ]
        }
      ]
    },
    {
      "cell_type": "code",
      "source": [
        "df.dropna(subset=['name','description'], inplace=True)"
      ],
      "metadata": {
        "id": "8lVV17ddi0iO"
      },
      "execution_count": null,
      "outputs": []
    },
    {
      "cell_type": "code",
      "source": [
        "df.isnull().sum()"
      ],
      "metadata": {
        "colab": {
          "base_uri": "https://localhost:8080/",
          "height": 460
        },
        "id": "plWjKfvDjJcp",
        "outputId": "7d1400de-821c-4166-86ec-b872b79cfa8f"
      },
      "execution_count": null,
      "outputs": [
        {
          "output_type": "execute_result",
          "data": {
            "text/plain": [
              "name               1\n",
              "id                 0\n",
              "minutes            0\n",
              "contributor_id     0\n",
              "submitted          0\n",
              "tags               0\n",
              "nutrition          0\n",
              "n_steps            0\n",
              "steps              0\n",
              "description       70\n",
              "ingredients        0\n",
              "n_ingredients      0\n",
              "dtype: int64"
            ],
            "text/html": [
              "<div>\n",
              "<style scoped>\n",
              "    .dataframe tbody tr th:only-of-type {\n",
              "        vertical-align: middle;\n",
              "    }\n",
              "\n",
              "    .dataframe tbody tr th {\n",
              "        vertical-align: top;\n",
              "    }\n",
              "\n",
              "    .dataframe thead th {\n",
              "        text-align: right;\n",
              "    }\n",
              "</style>\n",
              "<table border=\"1\" class=\"dataframe\">\n",
              "  <thead>\n",
              "    <tr style=\"text-align: right;\">\n",
              "      <th></th>\n",
              "      <th>0</th>\n",
              "    </tr>\n",
              "  </thead>\n",
              "  <tbody>\n",
              "    <tr>\n",
              "      <th>name</th>\n",
              "      <td>1</td>\n",
              "    </tr>\n",
              "    <tr>\n",
              "      <th>id</th>\n",
              "      <td>0</td>\n",
              "    </tr>\n",
              "    <tr>\n",
              "      <th>minutes</th>\n",
              "      <td>0</td>\n",
              "    </tr>\n",
              "    <tr>\n",
              "      <th>contributor_id</th>\n",
              "      <td>0</td>\n",
              "    </tr>\n",
              "    <tr>\n",
              "      <th>submitted</th>\n",
              "      <td>0</td>\n",
              "    </tr>\n",
              "    <tr>\n",
              "      <th>tags</th>\n",
              "      <td>0</td>\n",
              "    </tr>\n",
              "    <tr>\n",
              "      <th>nutrition</th>\n",
              "      <td>0</td>\n",
              "    </tr>\n",
              "    <tr>\n",
              "      <th>n_steps</th>\n",
              "      <td>0</td>\n",
              "    </tr>\n",
              "    <tr>\n",
              "      <th>steps</th>\n",
              "      <td>0</td>\n",
              "    </tr>\n",
              "    <tr>\n",
              "      <th>description</th>\n",
              "      <td>70</td>\n",
              "    </tr>\n",
              "    <tr>\n",
              "      <th>ingredients</th>\n",
              "      <td>0</td>\n",
              "    </tr>\n",
              "    <tr>\n",
              "      <th>n_ingredients</th>\n",
              "      <td>0</td>\n",
              "    </tr>\n",
              "  </tbody>\n",
              "</table>\n",
              "</div><br><label><b>dtype:</b> int64</label>"
            ]
          },
          "metadata": {},
          "execution_count": 31
        }
      ]
    },
    {
      "cell_type": "code",
      "source": [
        "def robust_meal_classifier(row):\n",
        "    name = row['name'].lower()\n",
        "    description = row['description'].lower() if isinstance(row['description'], str) else \"\"\n",
        "    ingredients = eval(row['ingredients']) if isinstance(row['ingredients'], str) else []\n",
        "    ingredients_str = \" \".join(ingredients).lower()\n",
        "    tags = eval(row['tags']) if isinstance(row['tags'], str) else []\n",
        "    tags_lower = [tag.lower() for tag in tags]\n",
        "    if 'smoothie' in name or 'smoothie' in tags_lower:\n",
        "        return 'smoothie'\n",
        "    elif any(tag in tags_lower for tag in ['snack', 'appetizer', 'finger food']):\n",
        "        return 'snack'\n",
        "    elif any(tag in tags_lower for tag in ['breakfast', 'brunch']):\n",
        "        return 'breakfast'\n",
        "    elif 'lunch' in tags_lower or 'lunch' in name:\n",
        "        return 'lunch'\n",
        "    elif any(tag in tags_lower for tag in ['dinner', 'entree', 'main-dish']):\n",
        "        return 'dinner'\n",
        "    if any(k in ingredients_str for k in ['eggs', 'oats', 'cereal', 'pancake', 'toast', 'milk', 'yogurt']) or 'breakfast' in description:\n",
        "        return 'breakfast'\n",
        "    elif any(k in ingredients_str for k in ['sandwich', 'wrap', 'rice', 'salad', 'pasta']) or 'lunch' in description:\n",
        "        return 'lunch'\n",
        "    elif any(k in ingredients_str for k in ['chicken', 'beef', 'roast', 'stew', 'lasagna']) or 'dinner' in description:\n",
        "        return 'dinner'\n",
        "    elif any(k in ingredients_str for k in ['chips', 'nuts', 'bars', 'dips', 'cookies']) or 'snack' in description:\n",
        "        return 'snack'\n",
        "    elif any(k in ingredients_str for k in ['banana', 'berries', 'yogurt', 'milk', 'protein powder']) or 'smoothie' in description:\n",
        "        return 'smoothie'\n",
        "    return 'other'\n",
        "df['meal_type'] = df.apply(robust_meal_classifier, axis=1)\n",
        "print(df['meal_type'].value_counts())\n"
      ],
      "metadata": {
        "colab": {
          "base_uri": "https://localhost:8080/"
        },
        "id": "HQe5tgahfkJ2",
        "outputId": "0f4d4af8-5c43-4864-c71c-717b59fedbad"
      },
      "execution_count": null,
      "outputs": [
        {
          "output_type": "stream",
          "name": "stdout",
          "text": [
            "meal_type\n",
            "dinner       27288\n",
            "breakfast    24897\n",
            "other        18622\n",
            "lunch         8876\n",
            "snack         2053\n",
            "smoothie      1975\n",
            "Name: count, dtype: int64\n"
          ]
        }
      ]
    },
    {
      "cell_type": "markdown",
      "source": [
        "#Dividing to the non-veg,veg,vegan"
      ],
      "metadata": {
        "id": "Rb5sMMGCkyxO"
      }
    },
    {
      "cell_type": "code",
      "source": [
        "def classify_diet_type(row):\n",
        "    try:\n",
        "        tags = eval(row['tags']) if isinstance(row['tags'], str) else row['tags']\n",
        "        tags = tags if isinstance(tags, list) else []\n",
        "    except:\n",
        "        tags = []\n",
        "\n",
        "    try:\n",
        "        ingredients = eval(row['ingredients']) if isinstance(row['ingredients'], str) else row['ingredients']\n",
        "        ingredients = ingredients if isinstance(ingredients, list) else []\n",
        "    except:\n",
        "        ingredients = []\n",
        "\n",
        "    tags_lower = [str(tag).lower() for tag in tags]\n",
        "    ingredients_str = \" \".join(map(str, ingredients)).lower()\n",
        "    if 'vegan' in tags_lower:\n",
        "        return 'vegan'\n",
        "    elif 'vegetarian' in tags_lower:\n",
        "        return 'veg'\n",
        "    elif any(tag in tags_lower for tag in ['meat', 'poultry', 'fish', 'chicken', 'beef', 'pork']):\n",
        "        return 'non_veg'\n",
        "    non_veg_keywords = ['chicken', 'beef', 'pork', 'fish', 'bacon', 'ham', 'shrimp', 'lamb', 'sausage']\n",
        "    vegan_blacklist = ['milk', 'cheese', 'butter', 'egg', 'cream', 'yogurt', 'honey']\n",
        "\n",
        "    if any(item in ingredients_str for item in non_veg_keywords):\n",
        "        return 'non_veg'\n",
        "    elif any(item in ingredients_str for item in vegan_blacklist):\n",
        "        return 'veg'\n",
        "    else:\n",
        "        return 'vegan'\n"
      ],
      "metadata": {
        "id": "HULoTN0miIgd"
      },
      "execution_count": null,
      "outputs": []
    },
    {
      "cell_type": "code",
      "source": [
        "df['diet_type'] = df.apply(classify_diet_type, axis=1)"
      ],
      "metadata": {
        "id": "jFY4aZndkMDP"
      },
      "execution_count": null,
      "outputs": []
    },
    {
      "cell_type": "code",
      "source": [
        "df['diet_type'].value_counts()"
      ],
      "metadata": {
        "colab": {
          "base_uri": "https://localhost:8080/",
          "height": 209
        },
        "id": "UKe_2eOgkVpR",
        "outputId": "4c5b6127-d443-4dbb-916c-8d5b485a467d"
      },
      "execution_count": null,
      "outputs": [
        {
          "output_type": "execute_result",
          "data": {
            "text/plain": [
              "diet_type\n",
              "veg        37286\n",
              "non_veg    33334\n",
              "vegan      13091\n",
              "Name: count, dtype: int64"
            ],
            "text/html": [
              "<div>\n",
              "<style scoped>\n",
              "    .dataframe tbody tr th:only-of-type {\n",
              "        vertical-align: middle;\n",
              "    }\n",
              "\n",
              "    .dataframe tbody tr th {\n",
              "        vertical-align: top;\n",
              "    }\n",
              "\n",
              "    .dataframe thead th {\n",
              "        text-align: right;\n",
              "    }\n",
              "</style>\n",
              "<table border=\"1\" class=\"dataframe\">\n",
              "  <thead>\n",
              "    <tr style=\"text-align: right;\">\n",
              "      <th></th>\n",
              "      <th>count</th>\n",
              "    </tr>\n",
              "    <tr>\n",
              "      <th>diet_type</th>\n",
              "      <th></th>\n",
              "    </tr>\n",
              "  </thead>\n",
              "  <tbody>\n",
              "    <tr>\n",
              "      <th>veg</th>\n",
              "      <td>37286</td>\n",
              "    </tr>\n",
              "    <tr>\n",
              "      <th>non_veg</th>\n",
              "      <td>33334</td>\n",
              "    </tr>\n",
              "    <tr>\n",
              "      <th>vegan</th>\n",
              "      <td>13091</td>\n",
              "    </tr>\n",
              "  </tbody>\n",
              "</table>\n",
              "</div><br><label><b>dtype:</b> int64</label>"
            ]
          },
          "metadata": {},
          "execution_count": 42
        }
      ]
    },
    {
      "cell_type": "code",
      "source": [
        "meal_diet_counts = df.groupby(['meal_type', 'diet_type']).size().unstack(fill_value=0)\n",
        "plt.figure(figsize=(12, 6))\n",
        "meal_diet_counts.plot(kind='bar', stacked=False)\n",
        "plt.title('Meal Type Distribution by Diet Type')\n",
        "plt.xlabel('Meal Type')\n",
        "plt.ylabel('Number of Recipes')\n",
        "plt.xticks(rotation=45)\n",
        "plt.legend(title='Diet Type')\n",
        "plt.tight_layout()\n",
        "plt.show()"
      ],
      "metadata": {
        "colab": {
          "base_uri": "https://localhost:8080/",
          "height": 505
        },
        "id": "OhsU_bkGkZ0P",
        "outputId": "26de0b7a-8c79-4949-d2bb-a53d5099b4a4"
      },
      "execution_count": null,
      "outputs": [
        {
          "output_type": "display_data",
          "data": {
            "text/plain": [
              "<Figure size 1200x600 with 0 Axes>"
            ]
          },
          "metadata": {}
        },
        {
          "output_type": "display_data",
          "data": {
            "text/plain": [
              "<Figure size 640x480 with 1 Axes>"
            ],
            "image/png": "[encoded data removed]"
          },
          "metadata": {}
        }
      ]
    },
    {
      "cell_type": "code",
      "source": [
        "df.columns"
      ],
      "metadata": {
        "colab": {
          "base_uri": "https://localhost:8080/"
        },
        "id": "0xXpwdq3pq9E",
        "outputId": "47677f27-9616-4648-8aef-08c42c06a18a"
      },
      "execution_count": null,
      "outputs": [
        {
          "output_type": "execute_result",
          "data": {
            "text/plain": [
              "Index(['name', 'id', 'minutes', 'contributor_id', 'submitted', 'tags',\n",
              "       'nutrition', 'n_steps', 'steps', 'description', 'ingredients',\n",
              "       'n_ingredients', 'meal_type', 'diet_type'],\n",
              "      dtype='object')"
            ]
          },
          "metadata": {},
          "execution_count": 45
        }
      ]
    },
    {
      "cell_type": "code",
      "source": [
        "df.head()"
      ],
      "metadata": {
        "colab": {
          "base_uri": "https://localhost:8080/",
          "height": 677
        },
        "id": "3hgGngriqMs7",
        "outputId": "2766e068-69f5-4c8b-cc82-07f3ea5ca03a"
      },
      "execution_count": null,
      "outputs": [
        {
          "output_type": "execute_result",
          "data": {
            "text/plain": [
              "                                   name      id  minutes  contributor_id  \\\n",
              "0  1 brownies in the world    best ever  333281       40          985201   \n",
              "1    1 in canada chocolate chip cookies  453467       45         1848091   \n",
              "2                412 broccoli casserole  306168       40           50969   \n",
              "3                millionaire pound cake  286009      120          461724   \n",
              "4                         2000 meatloaf  475785       90         2202916   \n",
              "\n",
              "    submitted                                               tags  \\\n",
              "0  2008-10-27  ['60-minutes-or-less', 'time-to-make', 'course...   \n",
              "1  2011-04-11  ['60-minutes-or-less', 'time-to-make', 'cuisin...   \n",
              "2  2008-05-30  ['60-minutes-or-less', 'time-to-make', 'course...   \n",
              "3  2008-02-12  ['time-to-make', 'course', 'cuisine', 'prepara...   \n",
              "4  2012-03-06  ['time-to-make', 'course', 'main-ingredient', ...   \n",
              "\n",
              "                                       nutrition  n_steps  \\\n",
              "0       [138.4, 10.0, 50.0, 3.0, 3.0, 19.0, 6.0]       10   \n",
              "1   [595.1, 46.0, 211.0, 22.0, 13.0, 51.0, 26.0]       12   \n",
              "2      [194.8, 20.0, 6.0, 32.0, 22.0, 36.0, 3.0]        6   \n",
              "3  [878.3, 63.0, 326.0, 13.0, 20.0, 123.0, 39.0]        7   \n",
              "4     [267.0, 30.0, 12.0, 12.0, 29.0, 48.0, 2.0]       17   \n",
              "\n",
              "                                               steps  \\\n",
              "0  ['heat the oven to 350f and arrange the rack i...   \n",
              "1  ['pre-heat oven the 350 degrees f', 'in a mixi...   \n",
              "2  ['preheat oven to 350 degrees', 'spray a 2 qua...   \n",
              "3  ['freheat the oven to 300 degrees', 'grease a ...   \n",
              "4  ['pan fry bacon , and set aside on a paper tow...   \n",
              "\n",
              "                                         description  \\\n",
              "0  these are the most; chocolatey, moist, rich, d...   \n",
              "1  this is the recipe that we use at my school ca...   \n",
              "2  since there are already 411 recipes for brocco...   \n",
              "3  why a millionaire pound cake?  because it's su...   \n",
              "4  ready, set, cook! special edition contest entr...   \n",
              "\n",
              "                                         ingredients  n_ingredients  \\\n",
              "0  ['bittersweet chocolate', 'unsalted butter', '...              9   \n",
              "1  ['white sugar', 'brown sugar', 'salt', 'margar...             11   \n",
              "2  ['frozen broccoli cuts', 'cream of chicken sou...              9   \n",
              "3  ['butter', 'sugar', 'eggs', 'all-purpose flour...              7   \n",
              "4  ['meatloaf mixture', 'unsmoked bacon', 'goat c...             13   \n",
              "\n",
              "   meal_type diet_type  \n",
              "0      lunch       veg  \n",
              "1  breakfast       veg  \n",
              "2  breakfast   non_veg  \n",
              "3  breakfast       veg  \n",
              "4     dinner   non_veg  "
            ],
            "text/html": [
              "\n",
              "  <div id=\"df-5b0040b4-25f2-4611-8e12-852055b0af81\" class=\"colab-df-container\">\n",
              "    <div>\n",
              "<style scoped>\n",
              "    .dataframe tbody tr th:only-of-type {\n",
              "        vertical-align: middle;\n",
              "    }\n",
              "\n",
              "    .dataframe tbody tr th {\n",
              "        vertical-align: top;\n",
              "    }\n",
              "\n",
              "    .dataframe thead th {\n",
              "        text-align: right;\n",
              "    }\n",
              "</style>\n",
              "<table border=\"1\" class=\"dataframe\">\n",
              "  <thead>\n",
              "    <tr style=\"text-align: right;\">\n",
              "      <th></th>\n",
              "      <th>name</th>\n",
              "      <th>id</th>\n",
              "      <th>minutes</th>\n",
              "      <th>contributor_id</th>\n",
              "      <th>submitted</th>\n",
              "      <th>tags</th>\n",
              "      <th>nutrition</th>\n",
              "      <th>n_steps</th>\n",
              "      <th>steps</th>\n",
              "      <th>description</th>\n",
              "      <th>ingredients</th>\n",
              "      <th>n_ingredients</th>\n",
              "      <th>meal_type</th>\n",
              "      <th>diet_type</th>\n",
              "    </tr>\n",
              "  </thead>\n",
              "  <tbody>\n",
              "    <tr>\n",
              "      <th>0</th>\n",
              "      <td>1 brownies in the world    best ever</td>\n",
              "      <td>333281</td>\n",
              "      <td>40</td>\n",
              "      <td>985201</td>\n",
              "      <td>2008-10-27</td>\n",
              "      <td>['60-minutes-or-less', 'time-to-make', 'course...</td>\n",
              "      <td>[138.4, 10.0, 50.0, 3.0, 3.0, 19.0, 6.0]</td>\n",
              "      <td>10</td>\n",
              "      <td>['heat the oven to 350f and arrange the rack i...</td>\n",
              "      <td>these are the most; chocolatey, moist, rich, d...</td>\n",
              "      <td>['bittersweet chocolate', 'unsalted butter', '...</td>\n",
              "      <td>9</td>\n",
              "      <td>lunch</td>\n",
              "      <td>veg</td>\n",
              "    </tr>\n",
              "    <tr>\n",
              "      <th>1</th>\n",
              "      <td>1 in canada chocolate chip cookies</td>\n",
              "      <td>453467</td>\n",
              "      <td>45</td>\n",
              "      <td>1848091</td>\n",
              "      <td>2011-04-11</td>\n",
              "      <td>['60-minutes-or-less', 'time-to-make', 'cuisin...</td>\n",
              "      <td>[595.1, 46.0, 211.0, 22.0, 13.0, 51.0, 26.0]</td>\n",
              "      <td>12</td>\n",
              "      <td>['pre-heat oven the 350 degrees f', 'in a mixi...</td>\n",
              "      <td>this is the recipe that we use at my school ca...</td>\n",
              "      <td>['white sugar', 'brown sugar', 'salt', 'margar...</td>\n",
              "      <td>11</td>\n",
              "      <td>breakfast</td>\n",
              "      <td>veg</td>\n",
              "    </tr>\n",
              "    <tr>\n",
              "      <th>2</th>\n",
              "      <td>412 broccoli casserole</td>\n",
              "      <td>306168</td>\n",
              "      <td>40</td>\n",
              "      <td>50969</td>\n",
              "      <td>2008-05-30</td>\n",
              "      <td>['60-minutes-or-less', 'time-to-make', 'course...</td>\n",
              "      <td>[194.8, 20.0, 6.0, 32.0, 22.0, 36.0, 3.0]</td>\n",
              "      <td>6</td>\n",
              "      <td>['preheat oven to 350 degrees', 'spray a 2 qua...</td>\n",
              "      <td>since there are already 411 recipes for brocco...</td>\n",
              "      <td>['frozen broccoli cuts', 'cream of chicken sou...</td>\n",
              "      <td>9</td>\n",
              "      <td>breakfast</td>\n",
              "      <td>non_veg</td>\n",
              "    </tr>\n",
              "    <tr>\n",
              "      <th>3</th>\n",
              "      <td>millionaire pound cake</td>\n",
              "      <td>286009</td>\n",
              "      <td>120</td>\n",
              "      <td>461724</td>\n",
              "      <td>2008-02-12</td>\n",
              "      <td>['time-to-make', 'course', 'cuisine', 'prepara...</td>\n",
              "      <td>[878.3, 63.0, 326.0, 13.0, 20.0, 123.0, 39.0]</td>\n",
              "      <td>7</td>\n",
              "      <td>['freheat the oven to 300 degrees', 'grease a ...</td>\n",
              "      <td>why a millionaire pound cake?  because it's su...</td>\n",
              "      <td>['butter', 'sugar', 'eggs', 'all-purpose flour...</td>\n",
              "      <td>7</td>\n",
              "      <td>breakfast</td>\n",
              "      <td>veg</td>\n",
              "    </tr>\n",
              "    <tr>\n",
              "      <th>4</th>\n",
              "      <td>2000 meatloaf</td>\n",
              "      <td>475785</td>\n",
              "      <td>90</td>\n",
              "      <td>2202916</td>\n",
              "      <td>2012-03-06</td>\n",
              "      <td>['time-to-make', 'course', 'main-ingredient', ...</td>\n",
              "      <td>[267.0, 30.0, 12.0, 12.0, 29.0, 48.0, 2.0]</td>\n",
              "      <td>17</td>\n",
              "      <td>['pan fry bacon , and set aside on a paper tow...</td>\n",
              "      <td>ready, set, cook! special edition contest entr...</td>\n",
              "      <td>['meatloaf mixture', 'unsmoked bacon', 'goat c...</td>\n",
              "      <td>13</td>\n",
              "      <td>dinner</td>\n",
              "      <td>non_veg</td>\n",
              "    </tr>\n",
              "  </tbody>\n",
              "</table>\n",
              "</div>\n",
              "    <div class=\"colab-df-buttons\">\n",
              "\n",
              "  <div class=\"colab-df-container\">\n",
              "    <button class=\"colab-df-convert\" onclick=\"convertToInteractive('df-5b0040b4-25f2-4611-8e12-852055b0af81')\"\n",
              "            title=\"Convert this dataframe to an interactive table.\"\n",
              "            style=\"display:none;\">\n",
              "\n",
              "  <svg xmlns=\"http://www.w3.org/2000/svg\" height=\"24px\" viewBox=\"0 -960 960 960\">\n",
              "    <path d=\"M120-120v-720h720v720H120Zm60-500h600v-160H180v160Zm220 220h160v-160H400v160Zm0 220h160v-160H400v160ZM180-400h160v-160H180v160Zm440 0h160v-160H620v160ZM180-180h160v-160H180v160Zm440 0h160v-160H620v160Z\"/>\n",
              "  </svg>\n",
              "    </button>\n",
              "\n",
              "  <style>\n",
              "    .colab-df-container {\n",
              "      display:flex;\n",
              "      gap: 12px;\n",
              "    }\n",
              "\n",
              "    .colab-df-convert {\n",
              "      background-color: #E8F0FE;\n",
              "      border: none;\n",
              "      border-radius: 50%;\n",
              "      cursor: pointer;\n",
              "      display: none;\n",
              "      fill: #1967D2;\n",
              "      height: 32px;\n",
              "      padding: 0 0 0 0;\n",
              "      width: 32px;\n",
              "    }\n",
              "\n",
              "    .colab-df-convert:hover {\n",
              "      background-color: #E2EBFA;\n",
              "      box-shadow: 0px 1px 2px rgba(60, 64, 67, 0.3), 0px 1px 3px 1px rgba(60, 64, 67, 0.15);\n",
              "      fill: #174EA6;\n",
              "    }\n",
              "\n",
              "    .colab-df-buttons div {\n",
              "      margin-bottom: 4px;\n",
              "    }\n",
              "\n",
              "    [theme=dark] .colab-df-convert {\n",
              "      background-color: #3B4455;\n",
              "      fill: #D2E3FC;\n",
              "    }\n",
              "\n",
              "    [theme=dark] .colab-df-convert:hover {\n",
              "      background-color: #434B5C;\n",
              "      box-shadow: 0px 1px 3px 1px rgba(0, 0, 0, 0.15);\n",
              "      filter: drop-shadow(0px 1px 2px rgba(0, 0, 0, 0.3));\n",
              "      fill: #FFFFFF;\n",
              "    }\n",
              "  </style>\n",
              "\n",
              "    <script>\n",
              "      const buttonEl =\n",
              "        document.querySelector('#df-5b0040b4-25f2-4611-8e12-852055b0af81 button.colab-df-convert');\n",
              "      buttonEl.style.display =\n",
              "        google.colab.kernel.accessAllowed ? 'block' : 'none';\n",
              "\n",
              "      async function convertToInteractive(key) {\n",
              "        const element = document.querySelector('#df-5b0040b4-25f2-4611-8e12-852055b0af81');\n",
              "        const dataTable =\n",
              "          await google.colab.kernel.invokeFunction('convertToInteractive',\n",
              "                                                    [key], {});\n",
              "        if (!dataTable) return;\n",
              "\n",
              "        const docLinkHtml = 'Like what you see? Visit the ' +\n",
              "          '<a target=\"_blank\" href=https://colab.research.google.com/notebooks/data_table.ipynb>data table notebook</a>'\n",
              "          + ' to learn more about interactive tables.';\n",
              "        element.innerHTML = '';\n",
              "        dataTable['output_type'] = 'display_data';\n",
              "        await google.colab.output.renderOutput(dataTable, element);\n",
              "        const docLink = document.createElement('div');\n",
              "        docLink.innerHTML = docLinkHtml;\n",
              "        element.appendChild(docLink);\n",
              "      }\n",
              "    </script>\n",
              "  </div>\n",
              "\n",
              "\n",
              "    <div id=\"df-aae44d06-6ae5-49aa-84d7-cab02bf1e53b\">\n",
              "      <button class=\"colab-df-quickchart\" onclick=\"quickchart('df-aae44d06-6ae5-49aa-84d7-cab02bf1e53b')\"\n",
              "                title=\"Suggest charts\"\n",
              "                style=\"display:none;\">\n",
              "\n",
              "<svg xmlns=\"http://www.w3.org/2000/svg\" height=\"24px\"viewBox=\"0 0 24 24\"\n",
              "     width=\"24px\">\n",
              "    <g>\n",
              "        <path d=\"M19 3H5c-1.1 0-2 .9-2 2v14c0 1.1.9 2 2 2h14c1.1 0 2-.9 2-2V5c0-1.1-.9-2-2-2zM9 17H7v-7h2v7zm4 0h-2V7h2v10zm4 0h-2v-4h2v4z\"/>\n",
              "    </g>\n",
              "</svg>\n",
              "      </button>\n",
              "\n",
              "<style>\n",
              "  .colab-df-quickchart {\n",
              "      --bg-color: #E8F0FE;\n",
              "      --fill-color: #1967D2;\n",
              "      --hover-bg-color: #E2EBFA;\n",
              "      --hover-fill-color: #174EA6;\n",
              "      --disabled-fill-color: #AAA;\n",
              "      --disabled-bg-color: #DDD;\n",
              "  }\n",
              "\n",
              "  [theme=dark] .colab-df-quickchart {\n",
              "      --bg-color: #3B4455;\n",
              "      --fill-color: #D2E3FC;\n",
              "      --hover-bg-color: #434B5C;\n",
              "      --hover-fill-color: #FFFFFF;\n",
              "      --disabled-bg-color: #3B4455;\n",
              "      --disabled-fill-color: #666;\n",
              "  }\n",
              "\n",
              "  .colab-df-quickchart {\n",
              "    background-color: var(--bg-color);\n",
              "    border: none;\n",
              "    border-radius: 50%;\n",
              "    cursor: pointer;\n",
              "    display: none;\n",
              "    fill: var(--fill-color);\n",
              "    height: 32px;\n",
              "    padding: 0;\n",
              "    width: 32px;\n",
              "  }\n",
              "\n",
              "  .colab-df-quickchart:hover {\n",
              "    background-color: var(--hover-bg-color);\n",
              "    box-shadow: 0 1px 2px rgba(60, 64, 67, 0.3), 0 1px 3px 1px rgba(60, 64, 67, 0.15);\n",
              "    fill: var(--button-hover-fill-color);\n",
              "  }\n",
              "\n",
              "  .colab-df-quickchart-complete:disabled,\n",
              "  .colab-df-quickchart-complete:disabled:hover {\n",
              "    background-color: var(--disabled-bg-color);\n",
              "    fill: var(--disabled-fill-color);\n",
              "    box-shadow: none;\n",
              "  }\n",
              "\n",
              "  .colab-df-spinner {\n",
              "    border: 2px solid var(--fill-color);\n",
              "    border-color: transparent;\n",
              "    border-bottom-color: var(--fill-color);\n",
              "    animation:\n",
              "      spin 1s steps(1) infinite;\n",
              "  }\n",
              "\n",
              "  @keyframes spin {\n",
              "    0% {\n",
              "      border-color: transparent;\n",
              "      border-bottom-color: var(--fill-color);\n",
              "      border-left-color: var(--fill-color);\n",
              "    }\n",
              "    20% {\n",
              "      border-color: transparent;\n",
              "      border-left-color: var(--fill-color);\n",
              "      border-top-color: var(--fill-color);\n",
              "    }\n",
              "    30% {\n",
              "      border-color: transparent;\n",
              "      border-left-color: var(--fill-color);\n",
              "      border-top-color: var(--fill-color);\n",
              "      border-right-color: var(--fill-color);\n",
              "    }\n",
              "    40% {\n",
              "      border-color: transparent;\n",
              "      border-right-color: var(--fill-color);\n",
              "      border-top-color: var(--fill-color);\n",
              "    }\n",
              "    60% {\n",
              "      border-color: transparent;\n",
              "      border-right-color: var(--fill-color);\n",
              "    }\n",
              "    80% {\n",
              "      border-color: transparent;\n",
              "      border-right-color: var(--fill-color);\n",
              "      border-bottom-color: var(--fill-color);\n",
              "    }\n",
              "    90% {\n",
              "      border-color: transparent;\n",
              "      border-bottom-color: var(--fill-color);\n",
              "    }\n",
              "  }\n",
              "</style>\n",
              "\n",
              "      <script>\n",
              "        async function quickchart(key) {\n",
              "          const quickchartButtonEl =\n",
              "            document.querySelector('#' + key + ' button');\n",
              "          quickchartButtonEl.disabled = true;  // To prevent multiple clicks.\n",
              "          quickchartButtonEl.classList.add('colab-df-spinner');\n",
              "          try {\n",
              "            const charts = await google.colab.kernel.invokeFunction(\n",
              "                'suggestCharts', [key], {});\n",
              "          } catch (error) {\n",
              "            console.error('Error during call to suggestCharts:', error);\n",
              "          }\n",
              "          quickchartButtonEl.classList.remove('colab-df-spinner');\n",
              "          quickchartButtonEl.classList.add('colab-df-quickchart-complete');\n",
              "        }\n",
              "        (() => {\n",
              "          let quickchartButtonEl =\n",
              "            document.querySelector('#df-aae44d06-6ae5-49aa-84d7-cab02bf1e53b button');\n",
              "          quickchartButtonEl.style.display =\n",
              "            google.colab.kernel.accessAllowed ? 'block' : 'none';\n",
              "        })();\n",
              "      </script>\n",
              "    </div>\n",
              "\n",
              "    </div>\n",
              "  </div>\n"
            ],
            "application/vnd.google.colaboratory.intrinsic+json": {
              "type": "dataframe",
              "variable_name": "df",
              "summary": "{\n  \"name\": \"df\",\n  \"rows\": 83711,\n  \"fields\": [\n    {\n      \"column\": \"name\",\n      \"properties\": {\n        \"dtype\": \"string\",\n        \"num_unique_values\": 83558,\n        \"samples\": [\n          \"patron grapefruit\",\n          \"chocolate chunk oatmeal cookies with pecans and dried cherries\",\n          \"doctored up scrambled eggs\"\n        ],\n        \"semantic_type\": \"\",\n        \"description\": \"\"\n      }\n    },\n    {\n      \"column\": \"id\",\n      \"properties\": {\n        \"dtype\": \"number\",\n        \"std\": 68732,\n        \"min\": 275022,\n        \"max\": 537716,\n        \"num_unique_values\": 83711,\n        \"samples\": [\n          463669,\n          504130,\n          297465\n        ],\n        \"semantic_type\": \"\",\n        \"description\": \"\"\n      }\n    },\n    {\n      \"column\": \"minutes\",\n      \"properties\": {\n        \"dtype\": \"number\",\n        \"std\": 3992,\n        \"min\": 0,\n        \"max\": 1051200,\n        \"num_unique_values\": 587,\n        \"samples\": [\n          43202,\n          385,\n          5770\n        ],\n        \"semantic_type\": \"\",\n        \"description\": \"\"\n      }\n    },\n    {\n      \"column\": \"contributor_id\",\n      \"properties\": {\n        \"dtype\": \"number\",\n        \"std\": 165571832,\n        \"min\": 1533,\n        \"max\": 2002289981,\n        \"num_unique_values\": 15434,\n        \"samples\": [\n          722949,\n          191765,\n          1435538\n        ],\n        \"semantic_type\": \"\",\n        \"description\": \"\"\n      }\n    },\n    {\n      \"column\": \"submitted\",\n      \"properties\": {\n        \"dtype\": \"object\",\n        \"num_unique_values\": 2873,\n        \"samples\": [\n          \"2013-09-04\",\n          \"2010-04-10\",\n          \"2008-10-12\"\n        ],\n        \"semantic_type\": \"\",\n        \"description\": \"\"\n      }\n    },\n    {\n      \"column\": \"tags\",\n      \"properties\": {\n        \"dtype\": \"string\",\n        \"num_unique_values\": 74087,\n        \"samples\": [\n          \"['60-minutes-or-less', 'time-to-make', 'course', 'main-ingredient', 'cuisine', 'preparation', 'occasion', 'desserts', 'european', 'holiday-event', 'cakes', 'nuts']\",\n          \"['lactose', 'weeknight', '30-minutes-or-less', 'time-to-make', 'course', 'main-ingredient', 'cuisine', 'preparation', 'occasion', 'low-protein', 'salads', 'side-dishes', 'fruit', 'vegetables', 'german', 'easy', 'european', 'beginner-cook', 'vegetarian', 'dietary', 'gluten-free', 'low-cholesterol', 'low-saturated-fat', 'low-calorie', 'inexpensive', 'healthy-2', 'free-of-something', 'low-in-something', 'apples', 'greens', 'presentation', 'served-hot', '3-steps-or-less']\",\n          \"['60-minutes-or-less', 'time-to-make', 'course', 'preparation', 'appetizers', 'lunch']\"\n        ],\n        \"semantic_type\": \"\",\n        \"description\": \"\"\n      }\n    },\n    {\n      \"column\": \"nutrition\",\n      \"properties\": {\n        \"dtype\": \"string\",\n        \"num_unique_values\": 83141,\n        \"samples\": [\n          \"[116.5, 15.0, 7.0, 8.0, 0.0, 7.0, 2.0]\",\n          \"[661.6, 44.0, 36.0, 48.0, 72.0, 59.0, 22.0]\",\n          \"[254.7, 7.0, 13.0, 5.0, 24.0, 2.0, 14.0]\"\n        ],\n        \"semantic_type\": \"\",\n        \"description\": \"\"\n      }\n    },\n    {\n      \"column\": \"n_steps\",\n      \"properties\": {\n        \"dtype\": \"number\",\n        \"std\": 6,\n        \"min\": 1,\n        \"max\": 100,\n        \"num_unique_values\": 84,\n        \"samples\": [\n          59,\n          10,\n          58\n        ],\n        \"semantic_type\": \"\",\n        \"description\": \"\"\n      }\n    },\n    {\n      \"column\": \"steps\",\n      \"properties\": {\n        \"dtype\": \"string\",\n        \"num_unique_values\": 83523,\n        \"samples\": [\n          \"['preheat oven to 400', 'peel zucchini with veggie peeler and then julienne it to where it resembles pasta', 'slice and dice tomatos & let the juices drain', 'place the olive oil in the bottom of a casserole dish & cover dish with non stick spray as well', 'place zucchini and tomatos in dish and add seasonings', 'toss until everything blend well', 'top off with mozzarella cheese', 'bake 30-35 minutes or until the top is golden , yummy :d', 'i enjoy topping my serving with makoto honey ginger dressing from winn dixie or simply dipping your pasta into this dressing is delish']\",\n          \"['in a medium bowl place the red chile powder , sesame seeds , almonds , crushed tortilla , raisins , garlic , anise seeds , cinnamon , cloves , coriander , tomatoes , salt , peppercorns , and 2 cups of the chicken stock', 'mix the ingredients together and pour them into a blender', 'puree the mixture until it is a thick paste', 'place the other 3 cups of chicken stock in a medium large sauce pan and heat it', 'while stirring constantly , gradually add the blended paste', 'bring the sauce to a boil', 'reduce the heat and add the chocolate', 'simmer the sauce until the chocolate has melted and a thick gravy is formed', 'in a large saucepan , half filled with boiling water , place the chicken', 'reduce the heat , cover and simmer the chicken for 15 minutes', 'broil the chicken 5-10 minutes on each side or until it is nicely browned', 'serve it with the sauce']\",\n          \"['cooking the starter:', 'heat skillet with olive oil till hot', 'add tater tots and onion', 'as tater tots and onion cook , break tots up with turner until they resemble hash browns', 'when they are hot and onion is done , remove to bowl and keep warm', 'mix eggs with milk or water and pour into the hot skillet', 'cook on medium heat', 'cook eggs scraping the bottom of pan as they cook to scramble them', 'when eggs are just about done , add your tater tot mixture and mix with eggs', 'let eggs finish cooking', 'shut off burner and mix cheese lightly into eggs', 'i use cheddar cheese', 'adding other ingredients:', 'while tater tots and onions are cooking add any other ingredients you like', 'add them in the order going from the ones that take the longest to cook to the shortest amount of time to cook', 'cut small items into small bite size pieces', 'left overs work great for this']\"\n        ],\n        \"semantic_type\": \"\",\n        \"description\": \"\"\n      }\n    },\n    {\n      \"column\": \"description\",\n      \"properties\": {\n        \"dtype\": \"string\",\n        \"num_unique_values\": 82199,\n        \"samples\": [\n          \"this has a beautiful presentation!  it's a perfect holiday fudgy cake!\",\n          \"these are cookies that i created for my husband. i hope you enjoy. he sure did. i  prefer to use semi-sweet chocolate chips, but use milk chocolate chips for him.\",\n          \"tired of the nondescript?  the italian sausage and pepper jack cheese wake up the classic johnny marzetti casserole. this has zing, but it is not super spicy.  use your ground venison, no one will ever know it's not regular ground beef.  just what the hunter ordered: a manly casserole.\"\n        ],\n        \"semantic_type\": \"\",\n        \"description\": \"\"\n      }\n    },\n    {\n      \"column\": \"ingredients\",\n      \"properties\": {\n        \"dtype\": \"string\",\n        \"num_unique_values\": 83511,\n        \"samples\": [\n          \"['nilla wafer crumbs', 'butter', 'caramels', 'evaporated milk', 'brownies', 'cream cheese', 'brown sugar', 'eggs', 'sour cream', 'vanilla extract', 'whipped cream', 'chocolate curls', 'chocolate-covered coffee beans']\",\n          \"['bacon bits', 'unsalted butter', 'onion', 'all-purpose flour', 'milk', 'cream-style corn', 'salt', 'pepper', 'celery salt']\",\n          \"['elbow macaroni', 'vegetable oil', 'serrano ham', 'leek', 'cream', 'parmigiano-reggiano cheese', 'salt and pepper', 'gruyere cheese', 'breadcrumbs', 'chives']\"\n        ],\n        \"semantic_type\": \"\",\n        \"description\": \"\"\n      }\n    },\n    {\n      \"column\": \"n_ingredients\",\n      \"properties\": {\n        \"dtype\": \"number\",\n        \"std\": 3,\n        \"min\": 1,\n        \"max\": 37,\n        \"num_unique_values\": 34,\n        \"samples\": [\n          17,\n          19,\n          30\n        ],\n        \"semantic_type\": \"\",\n        \"description\": \"\"\n      }\n    },\n    {\n      \"column\": \"meal_type\",\n      \"properties\": {\n        \"dtype\": \"category\",\n        \"num_unique_values\": 6,\n        \"samples\": [\n          \"lunch\",\n          \"breakfast\",\n          \"snack\"\n        ],\n        \"semantic_type\": \"\",\n        \"description\": \"\"\n      }\n    },\n    {\n      \"column\": \"diet_type\",\n      \"properties\": {\n        \"dtype\": \"category\",\n        \"num_unique_values\": 3,\n        \"samples\": [\n          \"veg\",\n          \"non_veg\",\n          \"vegan\"\n        ],\n        \"semantic_type\": \"\",\n        \"description\": \"\"\n      }\n    }\n  ]\n}"
            }
          },
          "metadata": {},
          "execution_count": 46
        }
      ]
    },
    {
      "cell_type": "code",
      "source": [
        "df['nutrition'][0]"
      ],
      "metadata": {
        "colab": {
          "base_uri": "https://localhost:8080/",
          "height": 36
        },
        "id": "aUvJL5mp8ay0",
        "outputId": "e849b911-23eb-4204-c650-3d00aff18cb4"
      },
      "execution_count": null,
      "outputs": [
        {
          "output_type": "execute_result",
          "data": {
            "text/plain": [
              "'[138.4, 10.0, 50.0, 3.0, 3.0, 19.0, 6.0]'"
            ],
            "application/vnd.google.colaboratory.intrinsic+json": {
              "type": "string"
            }
          },
          "metadata": {},
          "execution_count": 39
        }
      ]
    },
    {
      "cell_type": "markdown",
      "source": [
        "##We are converting the steps into the List Formating"
      ],
      "metadata": {
        "id": "CBNdX_IPsHRP"
      }
    },
    {
      "cell_type": "code",
      "source": [
        "import ast\n",
        "\n",
        "def parse_steps_safe(x):\n",
        "    if isinstance(x, list):\n",
        "        return x\n",
        "    elif isinstance(x, str):\n",
        "        try:\n",
        "            parsed = ast.literal_eval(x)\n",
        "            if isinstance(parsed, list):\n",
        "                return parsed\n",
        "            else:\n",
        "                return [str(parsed)]\n",
        "        except (ValueError, SyntaxError):\n",
        "            return [x.strip()]\n",
        "    else:\n",
        "        return [\"No steps available\"]\n",
        "df['steps'] = df['steps'].apply(parse_steps_safe)\n"
      ],
      "metadata": {
        "id": "skyXeW5Y0fpN"
      },
      "execution_count": null,
      "outputs": []
    },
    {
      "cell_type": "markdown",
      "source": [
        "###Splitting the Nutrition columsn to multiple columns"
      ],
      "metadata": {
        "id": "grE4p0uHtVea"
      }
    },
    {
      "cell_type": "code",
      "source": [
        "nutrition_cols = ['calories', 'total_fat', 'sugar', 'sodium', 'protein', 'saturated_fat', 'carbohydrates']\n",
        "df[nutrition_cols] = pd.DataFrame(df['nutrition'].apply(eval).tolist(), index=df.index)"
      ],
      "metadata": {
        "id": "XXdu3h6o1mO0"
      },
      "execution_count": null,
      "outputs": []
    },
    {
      "cell_type": "markdown",
      "source": [
        "#Saving the Processed Dataframe into the Drive"
      ],
      "metadata": {
        "id": "_4hx6VqQteuM"
      }
    },
    {
      "cell_type": "code",
      "source": [
        "df.to_csv(\"/content/drive/MyDrive/Calories/Recipes.csv\")"
      ],
      "metadata": {
        "id": "r1y_WVB3de9K"
      },
      "execution_count": null,
      "outputs": []
    },
    {
      "cell_type": "code",
      "source": [
        "da.drop(:)"
      ],
      "metadata": {
        "id": "9QwY7gvqKHOp"
      },
      "execution_count": null,
      "outputs": []
    },
    {
      "cell_type": "code",
      "source": [
        "da=pd.read_csv(\"/content/drive/MyDrive/Calories/Recipes.csv\")"
      ],
      "metadata": {
        "id": "uodhmxmx82fW"
      },
      "execution_count": null,
      "outputs": []
    },
    {
      "cell_type": "code",
      "source": [
        "da.columns"
      ],
      "metadata": {
        "colab": {
          "base_uri": "https://localhost:8080/"
        },
        "id": "WSLz6tMY86T1",
        "outputId": "cb8ae0d8-b329-48a3-be02-a2e8f42db596"
      },
      "execution_count": null,
      "outputs": [
        {
          "output_type": "execute_result",
          "data": {
            "text/plain": [
              "Index(['Unnamed: 0', 'name', 'id', 'minutes', 'contributor_id', 'submitted',\n",
              "       'tags', 'nutrition', 'n_steps', 'steps', 'description', 'ingredients',\n",
              "       'n_ingredients', 'meal_type', 'diet_type', 'calories', 'total_fat',\n",
              "       'sugar', 'sodium', 'protein', 'saturated_fat', 'carbohydrates'],\n",
              "      dtype='object')"
            ]
          },
          "metadata": {},
          "execution_count": 23
        }
      ]
    },
    {
      "cell_type": "markdown",
      "source": [
        "#Stream lit"
      ],
      "metadata": {
        "id": "RhNfenF7uLiY"
      }
    },
    {
      "cell_type": "code",
      "source": [
        "!pip install langchain openai faiss-cpu pymupdf tiktoken --quiet"
      ],
      "metadata": {
        "id": "MNDl_g5PuSCQ",
        "colab": {
          "base_uri": "https://localhost:8080/"
        },
        "outputId": "083c4184-509f-4d09-afd0-7336684076d7"
      },
      "execution_count": null,
      "outputs": [
        {
          "output_type": "stream",
          "name": "stdout",
          "text": [
            "\u001b[2K   \u001b[90m━━━━━━━━━━━━━━━━━━━━━━━━━━━━━━━━━━━━━━━━\u001b[0m \u001b[32m31.4/31.4 MB\u001b[0m \u001b[31m37.5 MB/s\u001b[0m eta \u001b[36m0:00:00\u001b[0m\n",
            "\u001b[2K   \u001b[90m━━━━━━━━━━━━━━━━━━━━━━━━━━━━━━━━━━━━━━━━\u001b[0m \u001b[32m24.1/24.1 MB\u001b[0m \u001b[31m50.1 MB/s\u001b[0m eta \u001b[36m0:00:00\u001b[0m\n",
            "\u001b[?25h"
          ]
        }
      ]
    },
    {
      "cell_type": "code",
      "source": [
        "!pip install -U langchain langchain-community faiss-cpu openai pymupdf tiktoken\n"
      ],
      "metadata": {
        "id": "W0bButvguUbE",
        "colab": {
          "base_uri": "https://localhost:8080/"
        },
        "outputId": "4af3d30d-d758-4b86-aef8-22785e96e3b0"
      },
      "execution_count": null,
      "outputs": [
        {
          "output_type": "stream",
          "name": "stdout",
          "text": [
            "Requirement already satisfied: langchain in /usr/local/lib/python3.12/dist-packages (0.3.27)\n",
            "Collecting langchain-community\n",
            "  Downloading langchain_community-0.3.27-py3-none-any.whl.metadata (2.9 kB)\n",
            "Requirement already satisfied: faiss-cpu in /usr/local/lib/python3.12/dist-packages (1.12.0)\n",
            "Requirement already satisfied: openai in /usr/local/lib/python3.12/dist-packages (1.100.0)\n",
            "Collecting openai\n",
            "  Downloading openai-1.101.0-py3-none-any.whl.metadata (29 kB)\n",
            "Requirement already satisfied: pymupdf in /usr/local/lib/python3.12/dist-packages (1.26.3)\n",
            "Requirement already satisfied: tiktoken in /usr/local/lib/python3.12/dist-packages (0.11.0)\n",
            "Requirement already satisfied: langchain-core<1.0.0,>=0.3.72 in /usr/local/lib/python3.12/dist-packages (from langchain) (0.3.74)\n",
            "Requirement already satisfied: langchain-text-splitters<1.0.0,>=0.3.9 in /usr/local/lib/python3.12/dist-packages (from langchain) (0.3.9)\n",
            "Requirement already satisfied: langsmith>=0.1.17 in /usr/local/lib/python3.12/dist-packages (from langchain) (0.4.14)\n",
            "Requirement already satisfied: pydantic<3.0.0,>=2.7.4 in /usr/local/lib/python3.12/dist-packages (from langchain) (2.11.7)\n",
            "Requirement already satisfied: SQLAlchemy<3,>=1.4 in /usr/local/lib/python3.12/dist-packages (from langchain) (2.0.43)\n",
            "Requirement already satisfied: requests<3,>=2 in /usr/local/lib/python3.12/dist-packages (from langchain) (2.32.4)\n",
            "Requirement already satisfied: PyYAML>=5.3 in /usr/local/lib/python3.12/dist-packages (from langchain) (6.0.2)\n",
            "Requirement already satisfied: aiohttp<4.0.0,>=3.8.3 in /usr/local/lib/python3.12/dist-packages (from langchain-community) (3.12.15)\n",
            "Requirement already satisfied: tenacity!=8.4.0,<10,>=8.1.0 in /usr/local/lib/python3.12/dist-packages (from langchain-community) (8.5.0)\n",
            "Collecting dataclasses-json<0.7,>=0.5.7 (from langchain-community)\n",
            "  Downloading dataclasses_json-0.6.7-py3-none-any.whl.metadata (25 kB)\n",
            "Requirement already satisfied: pydantic-settings<3.0.0,>=2.4.0 in /usr/local/lib/python3.12/dist-packages (from langchain-community) (2.10.1)\n",
            "Requirement already satisfied: httpx-sse<1.0.0,>=0.4.0 in /usr/local/lib/python3.12/dist-packages (from langchain-community) (0.4.1)\n",
            "Requirement already satisfied: numpy>=1.26.2 in /usr/local/lib/python3.12/dist-packages (from langchain-community) (2.0.2)\n",
            "Requirement already satisfied: packaging in /usr/local/lib/python3.12/dist-packages (from faiss-cpu) (25.0)\n",
            "Requirement already satisfied: anyio<5,>=3.5.0 in /usr/local/lib/python3.12/dist-packages (from openai) (4.10.0)\n",
            "Requirement already satisfied: distro<2,>=1.7.0 in /usr/local/lib/python3.12/dist-packages (from openai) (1.9.0)\n",
            "Requirement already satisfied: httpx<1,>=0.23.0 in /usr/local/lib/python3.12/dist-packages (from openai) (0.28.1)\n",
            "Requirement already satisfied: jiter<1,>=0.4.0 in /usr/local/lib/python3.12/dist-packages (from openai) (0.10.0)\n",
            "Requirement already satisfied: sniffio in /usr/local/lib/python3.12/dist-packages (from openai) (1.3.1)\n",
            "Requirement already satisfied: tqdm>4 in /usr/local/lib/python3.12/dist-packages (from openai) (4.67.1)\n",
            "Requirement already satisfied: typing-extensions<5,>=4.11 in /usr/local/lib/python3.12/dist-packages (from openai) (4.14.1)\n",
            "Requirement already satisfied: regex>=2022.1.18 in /usr/local/lib/python3.12/dist-packages (from tiktoken) (2024.11.6)\n",
            "Requirement already satisfied: aiohappyeyeballs>=2.5.0 in /usr/local/lib/python3.12/dist-packages (from aiohttp<4.0.0,>=3.8.3->langchain-community) (2.6.1)\n",
            "Requirement already satisfied: aiosignal>=1.4.0 in /usr/local/lib/python3.12/dist-packages (from aiohttp<4.0.0,>=3.8.3->langchain-community) (1.4.0)\n",
            "Requirement already satisfied: attrs>=17.3.0 in /usr/local/lib/python3.12/dist-packages (from aiohttp<4.0.0,>=3.8.3->langchain-community) (25.3.0)\n",
            "Requirement already satisfied: frozenlist>=1.1.1 in /usr/local/lib/python3.12/dist-packages (from aiohttp<4.0.0,>=3.8.3->langchain-community) (1.7.0)\n",
            "Requirement already satisfied: multidict<7.0,>=4.5 in /usr/local/lib/python3.12/dist-packages (from aiohttp<4.0.0,>=3.8.3->langchain-community) (6.6.4)\n",
            "Requirement already satisfied: propcache>=0.2.0 in /usr/local/lib/python3.12/dist-packages (from aiohttp<4.0.0,>=3.8.3->langchain-community) (0.3.2)\n",
            "Requirement already satisfied: yarl<2.0,>=1.17.0 in /usr/local/lib/python3.12/dist-packages (from aiohttp<4.0.0,>=3.8.3->langchain-community) (1.20.1)\n",
            "Requirement already satisfied: idna>=2.8 in /usr/local/lib/python3.12/dist-packages (from anyio<5,>=3.5.0->openai) (3.10)\n",
            "Collecting marshmallow<4.0.0,>=3.18.0 (from dataclasses-json<0.7,>=0.5.7->langchain-community)\n",
            "  Downloading marshmallow-3.26.1-py3-none-any.whl.metadata (7.3 kB)\n",
            "Collecting typing-inspect<1,>=0.4.0 (from dataclasses-json<0.7,>=0.5.7->langchain-community)\n",
            "  Downloading typing_inspect-0.9.0-py3-none-any.whl.metadata (1.5 kB)\n",
            "Requirement already satisfied: certifi in /usr/local/lib/python3.12/dist-packages (from httpx<1,>=0.23.0->openai) (2025.8.3)\n",
            "Requirement already satisfied: httpcore==1.* in /usr/local/lib/python3.12/dist-packages (from httpx<1,>=0.23.0->openai) (1.0.9)\n",
            "Requirement already satisfied: h11>=0.16 in /usr/local/lib/python3.12/dist-packages (from httpcore==1.*->httpx<1,>=0.23.0->openai) (0.16.0)\n",
            "Requirement already satisfied: jsonpatch<2.0,>=1.33 in /usr/local/lib/python3.12/dist-packages (from langchain-core<1.0.0,>=0.3.72->langchain) (1.33)\n",
            "Requirement already satisfied: orjson>=3.9.14 in /usr/local/lib/python3.12/dist-packages (from langsmith>=0.1.17->langchain) (3.11.2)\n",
            "Requirement already satisfied: requests-toolbelt>=1.0.0 in /usr/local/lib/python3.12/dist-packages (from langsmith>=0.1.17->langchain) (1.0.0)\n",
            "Requirement already satisfied: zstandard>=0.23.0 in /usr/local/lib/python3.12/dist-packages (from langsmith>=0.1.17->langchain) (0.24.0)\n",
            "Requirement already satisfied: annotated-types>=0.6.0 in /usr/local/lib/python3.12/dist-packages (from pydantic<3.0.0,>=2.7.4->langchain) (0.7.0)\n",
            "Requirement already satisfied: pydantic-core==2.33.2 in /usr/local/lib/python3.12/dist-packages (from pydantic<3.0.0,>=2.7.4->langchain) (2.33.2)\n",
            "Requirement already satisfied: typing-inspection>=0.4.0 in /usr/local/lib/python3.12/dist-packages (from pydantic<3.0.0,>=2.7.4->langchain) (0.4.1)\n",
            "Requirement already satisfied: python-dotenv>=0.21.0 in /usr/local/lib/python3.12/dist-packages (from pydantic-settings<3.0.0,>=2.4.0->langchain-community) (1.1.1)\n",
            "Requirement already satisfied: charset_normalizer<4,>=2 in /usr/local/lib/python3.12/dist-packages (from requests<3,>=2->langchain) (3.4.3)\n",
            "Requirement already satisfied: urllib3<3,>=1.21.1 in /usr/local/lib/python3.12/dist-packages (from requests<3,>=2->langchain) (2.5.0)\n",
            "Requirement already satisfied: greenlet>=1 in /usr/local/lib/python3.12/dist-packages (from SQLAlchemy<3,>=1.4->langchain) (3.2.4)\n",
            "Requirement already satisfied: jsonpointer>=1.9 in /usr/local/lib/python3.12/dist-packages (from jsonpatch<2.0,>=1.33->langchain-core<1.0.0,>=0.3.72->langchain) (3.0.0)\n",
            "Collecting mypy-extensions>=0.3.0 (from typing-inspect<1,>=0.4.0->dataclasses-json<0.7,>=0.5.7->langchain-community)\n",
            "  Downloading mypy_extensions-1.1.0-py3-none-any.whl.metadata (1.1 kB)\n",
            "Downloading langchain_community-0.3.27-py3-none-any.whl (2.5 MB)\n",
            "\u001b[2K   \u001b[90m━━━━━━━━━━━━━━━━━━━━━━━━━━━━━━━━━━━━━━━━\u001b[0m \u001b[32m2.5/2.5 MB\u001b[0m \u001b[31m12.5 MB/s\u001b[0m eta \u001b[36m0:00:00\u001b[0m\n",
            "\u001b[?25hDownloading openai-1.101.0-py3-none-any.whl (810 kB)\n",
            "\u001b[2K   \u001b[90m━━━━━━━━━━━━━━━━━━━━━━━━━━━━━━━━━━━━━━━━\u001b[0m \u001b[32m810.8/810.8 kB\u001b[0m \u001b[31m14.2 MB/s\u001b[0m eta \u001b[36m0:00:00\u001b[0m\n",
            "\u001b[?25hDownloading dataclasses_json-0.6.7-py3-none-any.whl (28 kB)\n",
            "Downloading marshmallow-3.26.1-py3-none-any.whl (50 kB)\n",
            "\u001b[2K   \u001b[90m━━━━━━━━━━━━━━━━━━━━━━━━━━━━━━━━━━━━━━━━\u001b[0m \u001b[32m50.9/50.9 kB\u001b[0m \u001b[31m2.3 MB/s\u001b[0m eta \u001b[36m0:00:00\u001b[0m\n",
            "\u001b[?25hDownloading typing_inspect-0.9.0-py3-none-any.whl (8.8 kB)\n",
            "Downloading mypy_extensions-1.1.0-py3-none-any.whl (5.0 kB)\n",
            "Installing collected packages: mypy-extensions, marshmallow, typing-inspect, openai, dataclasses-json, langchain-community\n",
            "  Attempting uninstall: openai\n",
            "    Found existing installation: openai 1.100.0\n",
            "    Uninstalling openai-1.100.0:\n",
            "      Successfully uninstalled openai-1.100.0\n",
            "Successfully installed dataclasses-json-0.6.7 langchain-community-0.3.27 marshmallow-3.26.1 mypy-extensions-1.1.0 openai-1.101.0 typing-inspect-0.9.0\n"
          ]
        }
      ]
    },
    {
      "cell_type": "code",
      "source": [
        "pip install openai"
      ],
      "metadata": {
        "id": "GdyePY0Yr-HX",
        "colab": {
          "base_uri": "https://localhost:8080/"
        },
        "outputId": "d814daa2-140a-401c-cf08-502da7c3fabb"
      },
      "execution_count": null,
      "outputs": [
        {
          "output_type": "stream",
          "name": "stdout",
          "text": [
            "Requirement already satisfied: openai in /usr/local/lib/python3.12/dist-packages (1.101.0)\n",
            "Requirement already satisfied: anyio<5,>=3.5.0 in /usr/local/lib/python3.12/dist-packages (from openai) (4.10.0)\n",
            "Requirement already satisfied: distro<2,>=1.7.0 in /usr/local/lib/python3.12/dist-packages (from openai) (1.9.0)\n",
            "Requirement already satisfied: httpx<1,>=0.23.0 in /usr/local/lib/python3.12/dist-packages (from openai) (0.28.1)\n",
            "Requirement already satisfied: jiter<1,>=0.4.0 in /usr/local/lib/python3.12/dist-packages (from openai) (0.10.0)\n",
            "Requirement already satisfied: pydantic<3,>=1.9.0 in /usr/local/lib/python3.12/dist-packages (from openai) (2.11.7)\n",
            "Requirement already satisfied: sniffio in /usr/local/lib/python3.12/dist-packages (from openai) (1.3.1)\n",
            "Requirement already satisfied: tqdm>4 in /usr/local/lib/python3.12/dist-packages (from openai) (4.67.1)\n",
            "Requirement already satisfied: typing-extensions<5,>=4.11 in /usr/local/lib/python3.12/dist-packages (from openai) (4.14.1)\n",
            "Requirement already satisfied: idna>=2.8 in /usr/local/lib/python3.12/dist-packages (from anyio<5,>=3.5.0->openai) (3.10)\n",
            "Requirement already satisfied: certifi in /usr/local/lib/python3.12/dist-packages (from httpx<1,>=0.23.0->openai) (2025.8.3)\n",
            "Requirement already satisfied: httpcore==1.* in /usr/local/lib/python3.12/dist-packages (from httpx<1,>=0.23.0->openai) (1.0.9)\n",
            "Requirement already satisfied: h11>=0.16 in /usr/local/lib/python3.12/dist-packages (from httpcore==1.*->httpx<1,>=0.23.0->openai) (0.16.0)\n",
            "Requirement already satisfied: annotated-types>=0.6.0 in /usr/local/lib/python3.12/dist-packages (from pydantic<3,>=1.9.0->openai) (0.7.0)\n",
            "Requirement already satisfied: pydantic-core==2.33.2 in /usr/local/lib/python3.12/dist-packages (from pydantic<3,>=1.9.0->openai) (2.33.2)\n",
            "Requirement already satisfied: typing-inspection>=0.4.0 in /usr/local/lib/python3.12/dist-packages (from pydantic<3,>=1.9.0->openai) (0.4.1)\n"
          ]
        }
      ]
    },
    {
      "cell_type": "code",
      "source": [
        "!rm -rf /root/.ngrok2\n"
      ],
      "metadata": {
        "id": "qz0kujvkaDms"
      },
      "execution_count": null,
      "outputs": []
    },
    {
      "cell_type": "code",
      "source": [
        "!pip install pyngrok"
      ],
      "metadata": {
        "colab": {
          "base_uri": "https://localhost:8080/"
        },
        "id": "24GAg_FuaR00",
        "outputId": "f87cec04-49a2-4409-c313-932e57a0da77"
      },
      "execution_count": null,
      "outputs": [
        {
          "output_type": "stream",
          "name": "stdout",
          "text": [
            "Collecting pyngrok\n",
            "  Downloading pyngrok-7.3.0-py3-none-any.whl.metadata (8.1 kB)\n",
            "Requirement already satisfied: PyYAML>=5.1 in /usr/local/lib/python3.12/dist-packages (from pyngrok) (6.0.2)\n",
            "Downloading pyngrok-7.3.0-py3-none-any.whl (25 kB)\n",
            "Installing collected packages: pyngrok\n",
            "Successfully installed pyngrok-7.3.0\n"
          ]
        }
      ]
    },
    {
      "cell_type": "code",
      "source": [
        "!pip install streamlit"
      ],
      "metadata": {
        "colab": {
          "base_uri": "https://localhost:8080/"
        },
        "id": "WlCsuix8aTFV",
        "outputId": "676635b9-d78f-4e98-e09d-d1b7c2735e7e"
      },
      "execution_count": null,
      "outputs": [
        {
          "output_type": "stream",
          "name": "stdout",
          "text": [
            "Collecting streamlit\n",
            "  Downloading streamlit-1.48.1-py3-none-any.whl.metadata (9.5 kB)\n",
            "Requirement already satisfied: altair!=5.4.0,!=5.4.1,<6,>=4.0 in /usr/local/lib/python3.12/dist-packages (from streamlit) (5.5.0)\n",
            "Requirement already satisfied: blinker<2,>=1.5.0 in /usr/local/lib/python3.12/dist-packages (from streamlit) (1.9.0)\n",
            "Requirement already satisfied: cachetools<7,>=4.0 in /usr/local/lib/python3.12/dist-packages (from streamlit) (5.5.2)\n",
            "Requirement already satisfied: click<9,>=7.0 in /usr/local/lib/python3.12/dist-packages (from streamlit) (8.2.1)\n",
            "Requirement already satisfied: numpy<3,>=1.23 in /usr/local/lib/python3.12/dist-packages (from streamlit) (2.0.2)\n",
            "Requirement already satisfied: packaging<26,>=20 in /usr/local/lib/python3.12/dist-packages (from streamlit) (25.0)\n",
            "Requirement already satisfied: pandas<3,>=1.4.0 in /usr/local/lib/python3.12/dist-packages (from streamlit) (2.2.2)\n",
            "Requirement already satisfied: pillow<12,>=7.1.0 in /usr/local/lib/python3.12/dist-packages (from streamlit) (11.3.0)\n",
            "Requirement already satisfied: protobuf<7,>=3.20 in /usr/local/lib/python3.12/dist-packages (from streamlit) (5.29.5)\n",
            "Requirement already satisfied: pyarrow>=7.0 in /usr/local/lib/python3.12/dist-packages (from streamlit) (18.1.0)\n",
            "Requirement already satisfied: requests<3,>=2.27 in /usr/local/lib/python3.12/dist-packages (from streamlit) (2.32.4)\n",
            "Requirement already satisfied: tenacity<10,>=8.1.0 in /usr/local/lib/python3.12/dist-packages (from streamlit) (8.5.0)\n",
            "Requirement already satisfied: toml<2,>=0.10.1 in /usr/local/lib/python3.12/dist-packages (from streamlit) (0.10.2)\n",
            "Requirement already satisfied: typing-extensions<5,>=4.4.0 in /usr/local/lib/python3.12/dist-packages (from streamlit) (4.14.1)\n",
            "Requirement already satisfied: watchdog<7,>=2.1.5 in /usr/local/lib/python3.12/dist-packages (from streamlit) (6.0.0)\n",
            "Requirement already satisfied: gitpython!=3.1.19,<4,>=3.0.7 in /usr/local/lib/python3.12/dist-packages (from streamlit) (3.1.45)\n",
            "Collecting pydeck<1,>=0.8.0b4 (from streamlit)\n",
            "  Downloading pydeck-0.9.1-py2.py3-none-any.whl.metadata (4.1 kB)\n",
            "Requirement already satisfied: tornado!=6.5.0,<7,>=6.0.3 in /usr/local/lib/python3.12/dist-packages (from streamlit) (6.4.2)\n",
            "Requirement already satisfied: jinja2 in /usr/local/lib/python3.12/dist-packages (from altair!=5.4.0,!=5.4.1,<6,>=4.0->streamlit) (3.1.6)\n",
            "Requirement already satisfied: jsonschema>=3.0 in /usr/local/lib/python3.12/dist-packages (from altair!=5.4.0,!=5.4.1,<6,>=4.0->streamlit) (4.25.1)\n",
            "Requirement already satisfied: narwhals>=1.14.2 in /usr/local/lib/python3.12/dist-packages (from altair!=5.4.0,!=5.4.1,<6,>=4.0->streamlit) (2.1.2)\n",
            "Requirement already satisfied: gitdb<5,>=4.0.1 in /usr/local/lib/python3.12/dist-packages (from gitpython!=3.1.19,<4,>=3.0.7->streamlit) (4.0.12)\n",
            "Requirement already satisfied: python-dateutil>=2.8.2 in /usr/local/lib/python3.12/dist-packages (from pandas<3,>=1.4.0->streamlit) (2.9.0.post0)\n",
            "Requirement already satisfied: pytz>=2020.1 in /usr/local/lib/python3.12/dist-packages (from pandas<3,>=1.4.0->streamlit) (2025.2)\n",
            "Requirement already satisfied: tzdata>=2022.7 in /usr/local/lib/python3.12/dist-packages (from pandas<3,>=1.4.0->streamlit) (2025.2)\n",
            "Requirement already satisfied: charset_normalizer<4,>=2 in /usr/local/lib/python3.12/dist-packages (from requests<3,>=2.27->streamlit) (3.4.3)\n",
            "Requirement already satisfied: idna<4,>=2.5 in /usr/local/lib/python3.12/dist-packages (from requests<3,>=2.27->streamlit) (3.10)\n",
            "Requirement already satisfied: urllib3<3,>=1.21.1 in /usr/local/lib/python3.12/dist-packages (from requests<3,>=2.27->streamlit) (2.5.0)\n",
            "Requirement already satisfied: certifi>=2017.4.17 in /usr/local/lib/python3.12/dist-packages (from requests<3,>=2.27->streamlit) (2025.8.3)\n",
            "Requirement already satisfied: smmap<6,>=3.0.1 in /usr/local/lib/python3.12/dist-packages (from gitdb<5,>=4.0.1->gitpython!=3.1.19,<4,>=3.0.7->streamlit) (5.0.2)\n",
            "Requirement already satisfied: MarkupSafe>=2.0 in /usr/local/lib/python3.12/dist-packages (from jinja2->altair!=5.4.0,!=5.4.1,<6,>=4.0->streamlit) (3.0.2)\n",
            "Requirement already satisfied: attrs>=22.2.0 in /usr/local/lib/python3.12/dist-packages (from jsonschema>=3.0->altair!=5.4.0,!=5.4.1,<6,>=4.0->streamlit) (25.3.0)\n",
            "Requirement already satisfied: jsonschema-specifications>=2023.03.6 in /usr/local/lib/python3.12/dist-packages (from jsonschema>=3.0->altair!=5.4.0,!=5.4.1,<6,>=4.0->streamlit) (2025.4.1)\n",
            "Requirement already satisfied: referencing>=0.28.4 in /usr/local/lib/python3.12/dist-packages (from jsonschema>=3.0->altair!=5.4.0,!=5.4.1,<6,>=4.0->streamlit) (0.36.2)\n",
            "Requirement already satisfied: rpds-py>=0.7.1 in /usr/local/lib/python3.12/dist-packages (from jsonschema>=3.0->altair!=5.4.0,!=5.4.1,<6,>=4.0->streamlit) (0.27.0)\n",
            "Requirement already satisfied: six>=1.5 in /usr/local/lib/python3.12/dist-packages (from python-dateutil>=2.8.2->pandas<3,>=1.4.0->streamlit) (1.17.0)\n",
            "Downloading streamlit-1.48.1-py3-none-any.whl (9.9 MB)\n",
            "\u001b[2K   \u001b[90m━━━━━━━━━━━━━━━━━━━━━━━━━━━━━━━━━━━━━━━━\u001b[0m \u001b[32m9.9/9.9 MB\u001b[0m \u001b[31m25.3 MB/s\u001b[0m eta \u001b[36m0:00:00\u001b[0m\n",
            "\u001b[?25hDownloading pydeck-0.9.1-py2.py3-none-any.whl (6.9 MB)\n",
            "\u001b[2K   \u001b[90m━━━━━━━━━━━━━━━━━━━━━━━━━━━━━━━━━━━━━━━━\u001b[0m \u001b[32m6.9/6.9 MB\u001b[0m \u001b[31m52.5 MB/s\u001b[0m eta \u001b[36m0:00:00\u001b[0m\n",
            "\u001b[?25hInstalling collected packages: pydeck, streamlit\n",
            "Successfully installed pydeck-0.9.1 streamlit-1.48.1\n"
          ]
        }
      ]
    },
    {
      "cell_type": "code",
      "source": [
        "!ngrok config add-authtoken 2a475kJZ2vlVv0atZBkbCmIyxk0_766D77csdRJKkoatBa3Wv\n"
      ],
      "metadata": {
        "colab": {
          "base_uri": "https://localhost:8080/"
        },
        "id": "m00hihSCaUed",
        "outputId": "f7c3c67a-a91c-4402-d33f-ed6db4006738"
      },
      "execution_count": null,
      "outputs": [
        {
          "output_type": "stream",
          "name": "stdout",
          "text": [
            "Authtoken saved to configuration file: /root/.config/ngrok/ngrok.yml\n"
          ]
        }
      ]
    },
    {
      "cell_type": "code",
      "source": [
        "\n",
        "!pip install langchain openai faiss-cpu pymupdf tiktoken --quiet"
      ],
      "metadata": {
        "id": "cOqCJeUUjZiS"
      },
      "execution_count": null,
      "outputs": []
    },
    {
      "cell_type": "code",
      "source": [
        "!pip install -U langchain langchain-community faiss-cpu openai pymupdf tiktoken\n"
      ],
      "metadata": {
        "colab": {
          "base_uri": "https://localhost:8080/"
        },
        "id": "VFCSgnwHjbd8",
        "outputId": "e7a67a8f-f258-4837-d1f0-946abfac986b"
      },
      "execution_count": null,
      "outputs": [
        {
          "output_type": "stream",
          "name": "stdout",
          "text": [
            "Requirement already satisfied: langchain in /usr/local/lib/python3.12/dist-packages (0.3.27)\n",
            "Requirement already satisfied: langchain-community in /usr/local/lib/python3.12/dist-packages (0.3.27)\n",
            "Requirement already satisfied: faiss-cpu in /usr/local/lib/python3.12/dist-packages (1.12.0)\n",
            "Requirement already satisfied: openai in /usr/local/lib/python3.12/dist-packages (1.101.0)\n",
            "Requirement already satisfied: pymupdf in /usr/local/lib/python3.12/dist-packages (1.26.3)\n",
            "Requirement already satisfied: tiktoken in /usr/local/lib/python3.12/dist-packages (0.11.0)\n",
            "Requirement already satisfied: langchain-core<1.0.0,>=0.3.72 in /usr/local/lib/python3.12/dist-packages (from langchain) (0.3.74)\n",
            "Requirement already satisfied: langchain-text-splitters<1.0.0,>=0.3.9 in /usr/local/lib/python3.12/dist-packages (from langchain) (0.3.9)\n",
            "Requirement already satisfied: langsmith>=0.1.17 in /usr/local/lib/python3.12/dist-packages (from langchain) (0.4.14)\n",
            "Requirement already satisfied: pydantic<3.0.0,>=2.7.4 in /usr/local/lib/python3.12/dist-packages (from langchain) (2.11.7)\n",
            "Requirement already satisfied: SQLAlchemy<3,>=1.4 in /usr/local/lib/python3.12/dist-packages (from langchain) (2.0.43)\n",
            "Requirement already satisfied: requests<3,>=2 in /usr/local/lib/python3.12/dist-packages (from langchain) (2.32.4)\n",
            "Requirement already satisfied: PyYAML>=5.3 in /usr/local/lib/python3.12/dist-packages (from langchain) (6.0.2)\n",
            "Requirement already satisfied: aiohttp<4.0.0,>=3.8.3 in /usr/local/lib/python3.12/dist-packages (from langchain-community) (3.12.15)\n",
            "Requirement already satisfied: tenacity!=8.4.0,<10,>=8.1.0 in /usr/local/lib/python3.12/dist-packages (from langchain-community) (8.5.0)\n",
            "Requirement already satisfied: dataclasses-json<0.7,>=0.5.7 in /usr/local/lib/python3.12/dist-packages (from langchain-community) (0.6.7)\n",
            "Requirement already satisfied: pydantic-settings<3.0.0,>=2.4.0 in /usr/local/lib/python3.12/dist-packages (from langchain-community) (2.10.1)\n",
            "Requirement already satisfied: httpx-sse<1.0.0,>=0.4.0 in /usr/local/lib/python3.12/dist-packages (from langchain-community) (0.4.1)\n",
            "Requirement already satisfied: numpy>=1.26.2 in /usr/local/lib/python3.12/dist-packages (from langchain-community) (2.0.2)\n",
            "Requirement already satisfied: packaging in /usr/local/lib/python3.12/dist-packages (from faiss-cpu) (25.0)\n",
            "Requirement already satisfied: anyio<5,>=3.5.0 in /usr/local/lib/python3.12/dist-packages (from openai) (4.10.0)\n",
            "Requirement already satisfied: distro<2,>=1.7.0 in /usr/local/lib/python3.12/dist-packages (from openai) (1.9.0)\n",
            "Requirement already satisfied: httpx<1,>=0.23.0 in /usr/local/lib/python3.12/dist-packages (from openai) (0.28.1)\n",
            "Requirement already satisfied: jiter<1,>=0.4.0 in /usr/local/lib/python3.12/dist-packages (from openai) (0.10.0)\n",
            "Requirement already satisfied: sniffio in /usr/local/lib/python3.12/dist-packages (from openai) (1.3.1)\n",
            "Requirement already satisfied: tqdm>4 in /usr/local/lib/python3.12/dist-packages (from openai) (4.67.1)\n",
            "Requirement already satisfied: typing-extensions<5,>=4.11 in /usr/local/lib/python3.12/dist-packages (from openai) (4.14.1)\n",
            "Requirement already satisfied: regex>=2022.1.18 in /usr/local/lib/python3.12/dist-packages (from tiktoken) (2024.11.6)\n",
            "Requirement already satisfied: aiohappyeyeballs>=2.5.0 in /usr/local/lib/python3.12/dist-packages (from aiohttp<4.0.0,>=3.8.3->langchain-community) (2.6.1)\n",
            "Requirement already satisfied: aiosignal>=1.4.0 in /usr/local/lib/python3.12/dist-packages (from aiohttp<4.0.0,>=3.8.3->langchain-community) (1.4.0)\n",
            "Requirement already satisfied: attrs>=17.3.0 in /usr/local/lib/python3.12/dist-packages (from aiohttp<4.0.0,>=3.8.3->langchain-community) (25.3.0)\n",
            "Requirement already satisfied: frozenlist>=1.1.1 in /usr/local/lib/python3.12/dist-packages (from aiohttp<4.0.0,>=3.8.3->langchain-community) (1.7.0)\n",
            "Requirement already satisfied: multidict<7.0,>=4.5 in /usr/local/lib/python3.12/dist-packages (from aiohttp<4.0.0,>=3.8.3->langchain-community) (6.6.4)\n",
            "Requirement already satisfied: propcache>=0.2.0 in /usr/local/lib/python3.12/dist-packages (from aiohttp<4.0.0,>=3.8.3->langchain-community) (0.3.2)\n",
            "Requirement already satisfied: yarl<2.0,>=1.17.0 in /usr/local/lib/python3.12/dist-packages (from aiohttp<4.0.0,>=3.8.3->langchain-community) (1.20.1)\n",
            "Requirement already satisfied: idna>=2.8 in /usr/local/lib/python3.12/dist-packages (from anyio<5,>=3.5.0->openai) (3.10)\n",
            "Requirement already satisfied: marshmallow<4.0.0,>=3.18.0 in /usr/local/lib/python3.12/dist-packages (from dataclasses-json<0.7,>=0.5.7->langchain-community) (3.26.1)\n",
            "Requirement already satisfied: typing-inspect<1,>=0.4.0 in /usr/local/lib/python3.12/dist-packages (from dataclasses-json<0.7,>=0.5.7->langchain-community) (0.9.0)\n",
            "Requirement already satisfied: certifi in /usr/local/lib/python3.12/dist-packages (from httpx<1,>=0.23.0->openai) (2025.8.3)\n",
            "Requirement already satisfied: httpcore==1.* in /usr/local/lib/python3.12/dist-packages (from httpx<1,>=0.23.0->openai) (1.0.9)\n",
            "Requirement already satisfied: h11>=0.16 in /usr/local/lib/python3.12/dist-packages (from httpcore==1.*->httpx<1,>=0.23.0->openai) (0.16.0)\n",
            "Requirement already satisfied: jsonpatch<2.0,>=1.33 in /usr/local/lib/python3.12/dist-packages (from langchain-core<1.0.0,>=0.3.72->langchain) (1.33)\n",
            "Requirement already satisfied: orjson>=3.9.14 in /usr/local/lib/python3.12/dist-packages (from langsmith>=0.1.17->langchain) (3.11.2)\n",
            "Requirement already satisfied: requests-toolbelt>=1.0.0 in /usr/local/lib/python3.12/dist-packages (from langsmith>=0.1.17->langchain) (1.0.0)\n",
            "Requirement already satisfied: zstandard>=0.23.0 in /usr/local/lib/python3.12/dist-packages (from langsmith>=0.1.17->langchain) (0.24.0)\n",
            "Requirement already satisfied: annotated-types>=0.6.0 in /usr/local/lib/python3.12/dist-packages (from pydantic<3.0.0,>=2.7.4->langchain) (0.7.0)\n",
            "Requirement already satisfied: pydantic-core==2.33.2 in /usr/local/lib/python3.12/dist-packages (from pydantic<3.0.0,>=2.7.4->langchain) (2.33.2)\n",
            "Requirement already satisfied: typing-inspection>=0.4.0 in /usr/local/lib/python3.12/dist-packages (from pydantic<3.0.0,>=2.7.4->langchain) (0.4.1)\n",
            "Requirement already satisfied: python-dotenv>=0.21.0 in /usr/local/lib/python3.12/dist-packages (from pydantic-settings<3.0.0,>=2.4.0->langchain-community) (1.1.1)\n",
            "Requirement already satisfied: charset_normalizer<4,>=2 in /usr/local/lib/python3.12/dist-packages (from requests<3,>=2->langchain) (3.4.3)\n",
            "Requirement already satisfied: urllib3<3,>=1.21.1 in /usr/local/lib/python3.12/dist-packages (from requests<3,>=2->langchain) (2.5.0)\n",
            "Requirement already satisfied: greenlet>=1 in /usr/local/lib/python3.12/dist-packages (from SQLAlchemy<3,>=1.4->langchain) (3.2.4)\n",
            "Requirement already satisfied: jsonpointer>=1.9 in /usr/local/lib/python3.12/dist-packages (from jsonpatch<2.0,>=1.33->langchain-core<1.0.0,>=0.3.72->langchain) (3.0.0)\n",
            "Requirement already satisfied: mypy-extensions>=0.3.0 in /usr/local/lib/python3.12/dist-packages (from typing-inspect<1,>=0.4.0->dataclasses-json<0.7,>=0.5.7->langchain-community) (1.1.0)\n"
          ]
        }
      ]
    },
    {
      "cell_type": "code",
      "source": [
        "!pip install fpdf\n"
      ],
      "metadata": {
        "colab": {
          "base_uri": "https://localhost:8080/"
        },
        "id": "gQsV2em6D26c",
        "outputId": "f38c6479-909e-437b-e8fd-82be7b5415c4"
      },
      "execution_count": null,
      "outputs": [
        {
          "output_type": "stream",
          "name": "stdout",
          "text": [
            "Collecting fpdf\n",
            "  Downloading fpdf-1.7.2.tar.gz (39 kB)\n",
            "  Preparing metadata (setup.py) ... \u001b[?25l\u001b[?25hdone\n",
            "Building wheels for collected packages: fpdf\n",
            "  Building wheel for fpdf (setup.py) ... \u001b[?25l\u001b[?25hdone\n",
            "  Created wheel for fpdf: filename=fpdf-1.7.2-py2.py3-none-any.whl size=40704 sha256=c727ca184b0194d6694763008fc6d5e9c8ffbdf7aa2044b96832b5af2d8d5153\n",
            "  Stored in directory: /root/.cache/pip/wheels/6e/62/11/dc73d78e40a218ad52e7451f30166e94491be013a7850b5d75\n",
            "Successfully built fpdf\n",
            "Installing collected packages: fpdf\n",
            "Successfully installed fpdf-1.7.2\n"
          ]
        }
      ]
    },
    {
      "cell_type": "code",
      "source": [
        "import os\n",
        "from google.colab import userdata\n",
        "os.environ[\"OPENAI_API_KEY\"] = userdata.get(\"open_ai\")"
      ],
      "metadata": {
        "id": "11g5xr7HpgZU"
      },
      "execution_count": null,
      "outputs": []
    },
    {
      "cell_type": "code",
      "source": [
        "import os\n",
        "os.system(\"pkill streamlit\")\n",
        "os.system(\"pkill ngrok\")"
      ],
      "metadata": {
        "colab": {
          "base_uri": "https://localhost:8080/"
        },
        "id": "U9dN5LJWacFc",
        "outputId": "64886f4a-983b-454d-d6dd-978062f8f928"
      },
      "execution_count": null,
      "outputs": [
        {
          "output_type": "stream",
          "name": "stderr",
          "text": [
            "WARNING:pyngrok.process.ngrok:t=2025-08-21T21:52:47+0000 lvl=warn msg=\"Stopping forwarder\" name=http-8501-7fea1e34-9869-4796-986c-b35e6f75869c acceptErr=\"failed to accept connection: Listener closed\"\n",
            "WARNING:pyngrok.process.ngrok:t=2025-08-21T21:52:47+0000 lvl=warn msg=\"Error restarting forwarder\" name=http-8501-7fea1e34-9869-4796-986c-b35e6f75869c err=\"failed to start tunnel: session closed\"\n"
          ]
        },
        {
          "output_type": "execute_result",
          "data": {
            "text/plain": [
              "0"
            ]
          },
          "metadata": {},
          "execution_count": 19
        }
      ]
    },
    {
      "cell_type": "code",
      "source": [
        "!pip install streamlit pyngrok -q\n"
      ],
      "metadata": {
        "id": "HsjFTn2S_wDz"
      },
      "execution_count": null,
      "outputs": []
    },
    {
      "cell_type": "code",
      "source": [
        "import threading\n",
        "import os\n",
        "import time\n",
        "from pyngrok import ngrok\n",
        "\n",
        "\n",
        "!pkill streamlit > /dev/null 2>&1\n",
        "ngrok.kill()\n",
        "\n",
        "\n",
        "def run():\n",
        "    os.system(\"streamlit run /content/Stream_lit_Chat.py --server.headless true\")\n",
        "\n",
        "thread = threading.Thread(target=run)\n",
        "thread.start()\n",
        "time.sleep(5)\n",
        "\n",
        "public_url = ngrok.connect(8501)\n",
        "print(\"Streamlit app is live at:\", public_url)\n"
      ],
      "metadata": {
        "colab": {
          "base_uri": "https://localhost:8080/"
        },
        "id": "xmnSUkoRE_U-",
        "outputId": "29840bb4-c8ca-4240-ea45-93affb1e456b"
      },
      "execution_count": null,
      "outputs": [
        {
          "output_type": "stream",
          "name": "stdout",
          "text": [
            "Streamlit app is live at: NgrokTunnel: \"https://7a9ccea8558a.ngrok-free.app\" -> \"http://localhost:8501\"\n"
          ]
        }
      ]
    },
    {
      "cell_type": "code",
      "source": [
        "ngrok.kill()"
      ],
      "metadata": {
        "id": "3DlIUCVS-a6s"
      },
      "execution_count": null,
      "outputs": []
    },
    {
      "cell_type": "markdown",
      "source": [
        "#Creatign the Vector Data Base"
      ],
      "metadata": {
        "id": "8Vq7hPa1ueMA"
      }
    },
    {
      "cell_type": "code",
      "source": [
        "!pip install langchain openai faiss-cpu pymupdf tiktoken --quiet\n"
      ],
      "metadata": {
        "id": "pp_cdDhKFqTB"
      },
      "execution_count": null,
      "outputs": []
    },
    {
      "cell_type": "code",
      "source": [
        "!pip install -U langchain langchain-community faiss-cpu openai pymupdf tiktoken\n"
      ],
      "metadata": {
        "colab": {
          "base_uri": "https://localhost:8080/"
        },
        "id": "9nG_ArqDG1I9",
        "outputId": "ea5f0dd8-554d-4396-cb59-b7670fda87c9"
      },
      "execution_count": null,
      "outputs": [
        {
          "output_type": "stream",
          "name": "stdout",
          "text": [
            "Requirement already satisfied: langchain in /usr/local/lib/python3.11/dist-packages (0.3.25)\n",
            "Requirement already satisfied: langchain-community in /usr/local/lib/python3.11/dist-packages (0.3.23)\n",
            "Requirement already satisfied: faiss-cpu in /usr/local/lib/python3.11/dist-packages (1.11.0)\n",
            "Requirement already satisfied: openai in /usr/local/lib/python3.11/dist-packages (1.77.0)\n",
            "Requirement already satisfied: pymupdf in /usr/local/lib/python3.11/dist-packages (1.25.5)\n",
            "Requirement already satisfied: tiktoken in /usr/local/lib/python3.11/dist-packages (0.9.0)\n",
            "Requirement already satisfied: langchain-core<1.0.0,>=0.3.58 in /usr/local/lib/python3.11/dist-packages (from langchain) (0.3.58)\n",
            "Requirement already satisfied: langchain-text-splitters<1.0.0,>=0.3.8 in /usr/local/lib/python3.11/dist-packages (from langchain) (0.3.8)\n",
            "Requirement already satisfied: langsmith<0.4,>=0.1.17 in /usr/local/lib/python3.11/dist-packages (from langchain) (0.3.39)\n",
            "Requirement already satisfied: pydantic<3.0.0,>=2.7.4 in /usr/local/lib/python3.11/dist-packages (from langchain) (2.11.4)\n",
            "Requirement already satisfied: SQLAlchemy<3,>=1.4 in /usr/local/lib/python3.11/dist-packages (from langchain) (2.0.40)\n",
            "Requirement already satisfied: requests<3,>=2 in /usr/local/lib/python3.11/dist-packages (from langchain) (2.32.3)\n",
            "Requirement already satisfied: PyYAML>=5.3 in /usr/local/lib/python3.11/dist-packages (from langchain) (6.0.2)\n",
            "Requirement already satisfied: aiohttp<4.0.0,>=3.8.3 in /usr/local/lib/python3.11/dist-packages (from langchain-community) (3.11.15)\n",
            "Requirement already satisfied: tenacity!=8.4.0,<10,>=8.1.0 in /usr/local/lib/python3.11/dist-packages (from langchain-community) (9.1.2)\n",
            "Requirement already satisfied: dataclasses-json<0.7,>=0.5.7 in /usr/local/lib/python3.11/dist-packages (from langchain-community) (0.6.7)\n",
            "Requirement already satisfied: pydantic-settings<3.0.0,>=2.4.0 in /usr/local/lib/python3.11/dist-packages (from langchain-community) (2.9.1)\n",
            "Requirement already satisfied: httpx-sse<1.0.0,>=0.4.0 in /usr/local/lib/python3.11/dist-packages (from langchain-community) (0.4.0)\n",
            "Requirement already satisfied: numpy>=1.26.2 in /usr/local/lib/python3.11/dist-packages (from langchain-community) (2.0.2)\n",
            "Requirement already satisfied: packaging in /usr/local/lib/python3.11/dist-packages (from faiss-cpu) (24.2)\n",
            "Requirement already satisfied: anyio<5,>=3.5.0 in /usr/local/lib/python3.11/dist-packages (from openai) (4.9.0)\n",
            "Requirement already satisfied: distro<2,>=1.7.0 in /usr/local/lib/python3.11/dist-packages (from openai) (1.9.0)\n",
            "Requirement already satisfied: httpx<1,>=0.23.0 in /usr/local/lib/python3.11/dist-packages (from openai) (0.28.1)\n",
            "Requirement already satisfied: jiter<1,>=0.4.0 in /usr/local/lib/python3.11/dist-packages (from openai) (0.9.0)\n",
            "Requirement already satisfied: sniffio in /usr/local/lib/python3.11/dist-packages (from openai) (1.3.1)\n",
            "Requirement already satisfied: tqdm>4 in /usr/local/lib/python3.11/dist-packages (from openai) (4.67.1)\n",
            "Requirement already satisfied: typing-extensions<5,>=4.11 in /usr/local/lib/python3.11/dist-packages (from openai) (4.13.2)\n",
            "Requirement already satisfied: regex>=2022.1.18 in /usr/local/lib/python3.11/dist-packages (from tiktoken) (2024.11.6)\n",
            "Requirement already satisfied: aiohappyeyeballs>=2.3.0 in /usr/local/lib/python3.11/dist-packages (from aiohttp<4.0.0,>=3.8.3->langchain-community) (2.6.1)\n",
            "Requirement already satisfied: aiosignal>=1.1.2 in /usr/local/lib/python3.11/dist-packages (from aiohttp<4.0.0,>=3.8.3->langchain-community) (1.3.2)\n",
            "Requirement already satisfied: attrs>=17.3.0 in /usr/local/lib/python3.11/dist-packages (from aiohttp<4.0.0,>=3.8.3->langchain-community) (25.3.0)\n",
            "Requirement already satisfied: frozenlist>=1.1.1 in /usr/local/lib/python3.11/dist-packages (from aiohttp<4.0.0,>=3.8.3->langchain-community) (1.6.0)\n",
            "Requirement already satisfied: multidict<7.0,>=4.5 in /usr/local/lib/python3.11/dist-packages (from aiohttp<4.0.0,>=3.8.3->langchain-community) (6.4.3)\n",
            "Requirement already satisfied: propcache>=0.2.0 in /usr/local/lib/python3.11/dist-packages (from aiohttp<4.0.0,>=3.8.3->langchain-community) (0.3.1)\n",
            "Requirement already satisfied: yarl<2.0,>=1.17.0 in /usr/local/lib/python3.11/dist-packages (from aiohttp<4.0.0,>=3.8.3->langchain-community) (1.20.0)\n",
            "Requirement already satisfied: idna>=2.8 in /usr/local/lib/python3.11/dist-packages (from anyio<5,>=3.5.0->openai) (3.10)\n",
            "Requirement already satisfied: marshmallow<4.0.0,>=3.18.0 in /usr/local/lib/python3.11/dist-packages (from dataclasses-json<0.7,>=0.5.7->langchain-community) (3.26.1)\n",
            "Requirement already satisfied: typing-inspect<1,>=0.4.0 in /usr/local/lib/python3.11/dist-packages (from dataclasses-json<0.7,>=0.5.7->langchain-community) (0.9.0)\n",
            "Requirement already satisfied: certifi in /usr/local/lib/python3.11/dist-packages (from httpx<1,>=0.23.0->openai) (2025.4.26)\n",
            "Requirement already satisfied: httpcore==1.* in /usr/local/lib/python3.11/dist-packages (from httpx<1,>=0.23.0->openai) (1.0.9)\n",
            "Requirement already satisfied: h11>=0.16 in /usr/local/lib/python3.11/dist-packages (from httpcore==1.*->httpx<1,>=0.23.0->openai) (0.16.0)\n",
            "Requirement already satisfied: jsonpatch<2.0,>=1.33 in /usr/local/lib/python3.11/dist-packages (from langchain-core<1.0.0,>=0.3.58->langchain) (1.33)\n",
            "Requirement already satisfied: orjson<4.0.0,>=3.9.14 in /usr/local/lib/python3.11/dist-packages (from langsmith<0.4,>=0.1.17->langchain) (3.10.18)\n",
            "Requirement already satisfied: requests-toolbelt<2.0.0,>=1.0.0 in /usr/local/lib/python3.11/dist-packages (from langsmith<0.4,>=0.1.17->langchain) (1.0.0)\n",
            "Requirement already satisfied: zstandard<0.24.0,>=0.23.0 in /usr/local/lib/python3.11/dist-packages (from langsmith<0.4,>=0.1.17->langchain) (0.23.0)\n",
            "Requirement already satisfied: annotated-types>=0.6.0 in /usr/local/lib/python3.11/dist-packages (from pydantic<3.0.0,>=2.7.4->langchain) (0.7.0)\n",
            "Requirement already satisfied: pydantic-core==2.33.2 in /usr/local/lib/python3.11/dist-packages (from pydantic<3.0.0,>=2.7.4->langchain) (2.33.2)\n",
            "Requirement already satisfied: typing-inspection>=0.4.0 in /usr/local/lib/python3.11/dist-packages (from pydantic<3.0.0,>=2.7.4->langchain) (0.4.0)\n",
            "Requirement already satisfied: python-dotenv>=0.21.0 in /usr/local/lib/python3.11/dist-packages (from pydantic-settings<3.0.0,>=2.4.0->langchain-community) (1.1.0)\n",
            "Requirement already satisfied: charset-normalizer<4,>=2 in /usr/local/lib/python3.11/dist-packages (from requests<3,>=2->langchain) (3.4.1)\n",
            "Requirement already satisfied: urllib3<3,>=1.21.1 in /usr/local/lib/python3.11/dist-packages (from requests<3,>=2->langchain) (2.4.0)\n",
            "Requirement already satisfied: greenlet>=1 in /usr/local/lib/python3.11/dist-packages (from SQLAlchemy<3,>=1.4->langchain) (3.2.1)\n",
            "Requirement already satisfied: jsonpointer>=1.9 in /usr/local/lib/python3.11/dist-packages (from jsonpatch<2.0,>=1.33->langchain-core<1.0.0,>=0.3.58->langchain) (3.0.0)\n",
            "Requirement already satisfied: mypy-extensions>=0.3.0 in /usr/local/lib/python3.11/dist-packages (from typing-inspect<1,>=0.4.0->dataclasses-json<0.7,>=0.5.7->langchain-community) (1.1.0)\n"
          ]
        }
      ]
    },
    {
      "cell_type": "code",
      "source": [
        "pip install unstructured"
      ],
      "metadata": {
        "colab": {
          "base_uri": "https://localhost:8080/"
        },
        "id": "t3jSi-jta3lH",
        "outputId": "dd9b3180-4379-4eae-c95b-faa5f768afba"
      },
      "execution_count": null,
      "outputs": [
        {
          "output_type": "stream",
          "name": "stdout",
          "text": [
            "Collecting unstructured\n",
            "  Downloading unstructured-0.17.2-py3-none-any.whl.metadata (24 kB)\n",
            "Requirement already satisfied: chardet in /usr/local/lib/python3.11/dist-packages (from unstructured) (5.2.0)\n",
            "Collecting filetype (from unstructured)\n",
            "  Downloading filetype-1.2.0-py2.py3-none-any.whl.metadata (6.5 kB)\n",
            "Collecting python-magic (from unstructured)\n",
            "  Downloading python_magic-0.4.27-py2.py3-none-any.whl.metadata (5.8 kB)\n",
            "Requirement already satisfied: lxml in /usr/local/lib/python3.11/dist-packages (from unstructured) (5.4.0)\n",
            "Requirement already satisfied: nltk in /usr/local/lib/python3.11/dist-packages (from unstructured) (3.9.1)\n",
            "Requirement already satisfied: requests in /usr/local/lib/python3.11/dist-packages (from unstructured) (2.32.3)\n",
            "Requirement already satisfied: beautifulsoup4 in /usr/local/lib/python3.11/dist-packages (from unstructured) (4.13.4)\n",
            "Collecting emoji (from unstructured)\n",
            "  Downloading emoji-2.14.1-py3-none-any.whl.metadata (5.7 kB)\n",
            "Requirement already satisfied: dataclasses-json in /usr/local/lib/python3.11/dist-packages (from unstructured) (0.6.7)\n",
            "Collecting python-iso639 (from unstructured)\n",
            "  Downloading python_iso639-2025.2.18-py3-none-any.whl.metadata (14 kB)\n",
            "Collecting langdetect (from unstructured)\n",
            "  Downloading langdetect-1.0.9.tar.gz (981 kB)\n",
            "\u001b[2K     \u001b[90m━━━━━━━━━━━━━━━━━━━━━━━━━━━━━━━━━━━━━━\u001b[0m \u001b[32m981.5/981.5 kB\u001b[0m \u001b[31m16.9 MB/s\u001b[0m eta \u001b[36m0:00:00\u001b[0m\n",
            "\u001b[?25h  Preparing metadata (setup.py) ... \u001b[?25l\u001b[?25hdone\n",
            "Requirement already satisfied: numpy in /usr/local/lib/python3.11/dist-packages (from unstructured) (2.0.2)\n",
            "Collecting rapidfuzz (from unstructured)\n",
            "  Downloading rapidfuzz-3.13.0-cp311-cp311-manylinux_2_17_x86_64.manylinux2014_x86_64.whl.metadata (12 kB)\n",
            "Collecting backoff (from unstructured)\n",
            "  Downloading backoff-2.2.1-py3-none-any.whl.metadata (14 kB)\n",
            "Requirement already satisfied: typing-extensions in /usr/local/lib/python3.11/dist-packages (from unstructured) (4.13.2)\n",
            "Collecting unstructured-client (from unstructured)\n",
            "  Downloading unstructured_client-0.34.0-py3-none-any.whl.metadata (21 kB)\n",
            "Requirement already satisfied: wrapt in /usr/local/lib/python3.11/dist-packages (from unstructured) (1.17.2)\n",
            "Requirement already satisfied: tqdm in /usr/local/lib/python3.11/dist-packages (from unstructured) (4.67.1)\n",
            "Requirement already satisfied: psutil in /usr/local/lib/python3.11/dist-packages (from unstructured) (5.9.5)\n",
            "Collecting python-oxmsg (from unstructured)\n",
            "  Downloading python_oxmsg-0.0.2-py3-none-any.whl.metadata (5.0 kB)\n",
            "Requirement already satisfied: html5lib in /usr/local/lib/python3.11/dist-packages (from unstructured) (1.1)\n",
            "Requirement already satisfied: soupsieve>1.2 in /usr/local/lib/python3.11/dist-packages (from beautifulsoup4->unstructured) (2.7)\n",
            "Requirement already satisfied: marshmallow<4.0.0,>=3.18.0 in /usr/local/lib/python3.11/dist-packages (from dataclasses-json->unstructured) (3.26.1)\n",
            "Requirement already satisfied: typing-inspect<1,>=0.4.0 in /usr/local/lib/python3.11/dist-packages (from dataclasses-json->unstructured) (0.9.0)\n",
            "Requirement already satisfied: six>=1.9 in /usr/local/lib/python3.11/dist-packages (from html5lib->unstructured) (1.17.0)\n",
            "Requirement already satisfied: webencodings in /usr/local/lib/python3.11/dist-packages (from html5lib->unstructured) (0.5.1)\n",
            "Requirement already satisfied: click in /usr/local/lib/python3.11/dist-packages (from nltk->unstructured) (8.1.8)\n",
            "Requirement already satisfied: joblib in /usr/local/lib/python3.11/dist-packages (from nltk->unstructured) (1.4.2)\n",
            "Requirement already satisfied: regex>=2021.8.3 in /usr/local/lib/python3.11/dist-packages (from nltk->unstructured) (2024.11.6)\n",
            "Collecting olefile (from python-oxmsg->unstructured)\n",
            "  Downloading olefile-0.47-py2.py3-none-any.whl.metadata (9.7 kB)\n",
            "Requirement already satisfied: charset-normalizer<4,>=2 in /usr/local/lib/python3.11/dist-packages (from requests->unstructured) (3.4.1)\n",
            "Requirement already satisfied: idna<4,>=2.5 in /usr/local/lib/python3.11/dist-packages (from requests->unstructured) (3.10)\n",
            "Requirement already satisfied: urllib3<3,>=1.21.1 in /usr/local/lib/python3.11/dist-packages (from requests->unstructured) (2.4.0)\n",
            "Requirement already satisfied: certifi>=2017.4.17 in /usr/local/lib/python3.11/dist-packages (from requests->unstructured) (2025.4.26)\n",
            "Collecting aiofiles>=24.1.0 (from unstructured-client->unstructured)\n",
            "  Downloading aiofiles-24.1.0-py3-none-any.whl.metadata (10 kB)\n",
            "Requirement already satisfied: cryptography>=3.1 in /usr/local/lib/python3.11/dist-packages (from unstructured-client->unstructured) (43.0.3)\n",
            "Collecting eval-type-backport>=0.2.0 (from unstructured-client->unstructured)\n",
            "  Downloading eval_type_backport-0.2.2-py3-none-any.whl.metadata (2.2 kB)\n",
            "Requirement already satisfied: httpx>=0.27.0 in /usr/local/lib/python3.11/dist-packages (from unstructured-client->unstructured) (0.28.1)\n",
            "Requirement already satisfied: nest-asyncio>=1.6.0 in /usr/local/lib/python3.11/dist-packages (from unstructured-client->unstructured) (1.6.0)\n",
            "Requirement already satisfied: pydantic>=2.11.2 in /usr/local/lib/python3.11/dist-packages (from unstructured-client->unstructured) (2.11.4)\n",
            "Collecting pypdf>=4.0 (from unstructured-client->unstructured)\n",
            "  Downloading pypdf-5.4.0-py3-none-any.whl.metadata (7.3 kB)\n",
            "Requirement already satisfied: requests-toolbelt>=1.0.0 in /usr/local/lib/python3.11/dist-packages (from unstructured-client->unstructured) (1.0.0)\n",
            "Requirement already satisfied: typing-inspection>=0.4.0 in /usr/local/lib/python3.11/dist-packages (from unstructured-client->unstructured) (0.4.0)\n",
            "Requirement already satisfied: cffi>=1.12 in /usr/local/lib/python3.11/dist-packages (from cryptography>=3.1->unstructured-client->unstructured) (1.17.1)\n",
            "Requirement already satisfied: anyio in /usr/local/lib/python3.11/dist-packages (from httpx>=0.27.0->unstructured-client->unstructured) (4.9.0)\n",
            "Requirement already satisfied: httpcore==1.* in /usr/local/lib/python3.11/dist-packages (from httpx>=0.27.0->unstructured-client->unstructured) (1.0.9)\n",
            "Requirement already satisfied: h11>=0.16 in /usr/local/lib/python3.11/dist-packages (from httpcore==1.*->httpx>=0.27.0->unstructured-client->unstructured) (0.16.0)\n",
            "Requirement already satisfied: packaging>=17.0 in /usr/local/lib/python3.11/dist-packages (from marshmallow<4.0.0,>=3.18.0->dataclasses-json->unstructured) (24.2)\n",
            "Requirement already satisfied: annotated-types>=0.6.0 in /usr/local/lib/python3.11/dist-packages (from pydantic>=2.11.2->unstructured-client->unstructured) (0.7.0)\n",
            "Requirement already satisfied: pydantic-core==2.33.2 in /usr/local/lib/python3.11/dist-packages (from pydantic>=2.11.2->unstructured-client->unstructured) (2.33.2)\n",
            "Requirement already satisfied: mypy-extensions>=0.3.0 in /usr/local/lib/python3.11/dist-packages (from typing-inspect<1,>=0.4.0->dataclasses-json->unstructured) (1.1.0)\n",
            "Requirement already satisfied: pycparser in /usr/local/lib/python3.11/dist-packages (from cffi>=1.12->cryptography>=3.1->unstructured-client->unstructured) (2.22)\n",
            "Requirement already satisfied: sniffio>=1.1 in /usr/local/lib/python3.11/dist-packages (from anyio->httpx>=0.27.0->unstructured-client->unstructured) (1.3.1)\n",
            "Downloading unstructured-0.17.2-py3-none-any.whl (1.8 MB)\n",
            "\u001b[2K   \u001b[90m━━━━━━━━━━━━━━━━━━━━━━━━━━━━━━━━━━━━━━━━\u001b[0m \u001b[32m1.8/1.8 MB\u001b[0m \u001b[31m46.2 MB/s\u001b[0m eta \u001b[36m0:00:00\u001b[0m\n",
            "\u001b[?25hDownloading backoff-2.2.1-py3-none-any.whl (15 kB)\n",
            "Downloading emoji-2.14.1-py3-none-any.whl (590 kB)\n",
            "\u001b[2K   \u001b[90m━━━━━━━━━━━━━━━━━━━━━━━━━━━━━━━━━━━━━━━━\u001b[0m \u001b[32m590.6/590.6 kB\u001b[0m \u001b[31m28.8 MB/s\u001b[0m eta \u001b[36m0:00:00\u001b[0m\n",
            "\u001b[?25hDownloading filetype-1.2.0-py2.py3-none-any.whl (19 kB)\n",
            "Downloading python_iso639-2025.2.18-py3-none-any.whl (167 kB)\n",
            "\u001b[2K   \u001b[90m━━━━━━━━━━━━━━━━━━━━━━━━━━━━━━━━━━━━━━━━\u001b[0m \u001b[32m167.6/167.6 kB\u001b[0m \u001b[31m11.4 MB/s\u001b[0m eta \u001b[36m0:00:00\u001b[0m\n",
            "\u001b[?25hDownloading python_magic-0.4.27-py2.py3-none-any.whl (13 kB)\n",
            "Downloading python_oxmsg-0.0.2-py3-none-any.whl (31 kB)\n",
            "Downloading rapidfuzz-3.13.0-cp311-cp311-manylinux_2_17_x86_64.manylinux2014_x86_64.whl (3.1 MB)\n",
            "\u001b[2K   \u001b[90m━━━━━━━━━━━━━━━━━━━━━━━━━━━━━━━━━━━━━━━━\u001b[0m \u001b[32m3.1/3.1 MB\u001b[0m \u001b[31m62.2 MB/s\u001b[0m eta \u001b[36m0:00:00\u001b[0m\n",
            "\u001b[?25hDownloading unstructured_client-0.34.0-py3-none-any.whl (189 kB)\n",
            "\u001b[2K   \u001b[90m━━━━━━━━━━━━━━━━━━━━━━━━━━━━━━━━━━━━━━━━\u001b[0m \u001b[32m189.4/189.4 kB\u001b[0m \u001b[31m11.4 MB/s\u001b[0m eta \u001b[36m0:00:00\u001b[0m\n",
            "\u001b[?25hDownloading aiofiles-24.1.0-py3-none-any.whl (15 kB)\n",
            "Downloading eval_type_backport-0.2.2-py3-none-any.whl (5.8 kB)\n",
            "Downloading pypdf-5.4.0-py3-none-any.whl (302 kB)\n",
            "\u001b[2K   \u001b[90m━━━━━━━━━━━━━━━━━━━━━━━━━━━━━━━━━━━━━━━━\u001b[0m \u001b[32m302.3/302.3 kB\u001b[0m \u001b[31m18.7 MB/s\u001b[0m eta \u001b[36m0:00:00\u001b[0m\n",
            "\u001b[?25hDownloading olefile-0.47-py2.py3-none-any.whl (114 kB)\n",
            "\u001b[2K   \u001b[90m━━━━━━━━━━━━━━━━━━━━━━━━━━━━━━━━━━━━━━━━\u001b[0m \u001b[32m114.6/114.6 kB\u001b[0m \u001b[31m8.4 MB/s\u001b[0m eta \u001b[36m0:00:00\u001b[0m\n",
            "\u001b[?25hBuilding wheels for collected packages: langdetect\n",
            "  Building wheel for langdetect (setup.py) ... \u001b[?25l\u001b[?25hdone\n",
            "  Created wheel for langdetect: filename=langdetect-1.0.9-py3-none-any.whl size=993223 sha256=42d3e1100b870876b199f135a5cec6211eefa69f5fbd33916340c93bd6b58623\n",
            "  Stored in directory: /root/.cache/pip/wheels/0a/f2/b2/e5ca405801e05eb7c8ed5b3b4bcf1fcabcd6272c167640072e\n",
            "Successfully built langdetect\n",
            "Installing collected packages: filetype, rapidfuzz, python-magic, python-iso639, pypdf, olefile, langdetect, eval-type-backport, emoji, backoff, aiofiles, python-oxmsg, unstructured-client, unstructured\n",
            "Successfully installed aiofiles-24.1.0 backoff-2.2.1 emoji-2.14.1 eval-type-backport-0.2.2 filetype-1.2.0 langdetect-1.0.9 olefile-0.47 pypdf-5.4.0 python-iso639-2025.2.18 python-magic-0.4.27 python-oxmsg-0.0.2 rapidfuzz-3.13.0 unstructured-0.17.2 unstructured-client-0.34.0\n"
          ]
        }
      ]
    },
    {
      "cell_type": "code",
      "source": [
        "!pip install python-docx\n"
      ],
      "metadata": {
        "colab": {
          "base_uri": "https://localhost:8080/"
        },
        "id": "7SKz3thUbGsd",
        "outputId": "deabfa47-cb43-445a-9b41-d29002acf789"
      },
      "execution_count": null,
      "outputs": [
        {
          "output_type": "stream",
          "name": "stdout",
          "text": [
            "Collecting python-docx\n",
            "  Downloading python_docx-1.1.2-py3-none-any.whl.metadata (2.0 kB)\n",
            "Requirement already satisfied: lxml>=3.1.0 in /usr/local/lib/python3.11/dist-packages (from python-docx) (5.4.0)\n",
            "Requirement already satisfied: typing-extensions>=4.9.0 in /usr/local/lib/python3.11/dist-packages (from python-docx) (4.13.2)\n",
            "Downloading python_docx-1.1.2-py3-none-any.whl (244 kB)\n",
            "\u001b[2K   \u001b[90m━━━━━━━━━━━━━━━━━━━━━━━━━━━━━━━━━━━━━━━━\u001b[0m \u001b[32m244.3/244.3 kB\u001b[0m \u001b[31m4.4 MB/s\u001b[0m eta \u001b[36m0:00:00\u001b[0m\n",
            "\u001b[?25hInstalling collected packages: python-docx\n",
            "Successfully installed python-docx-1.1.2\n"
          ]
        }
      ]
    },
    {
      "cell_type": "markdown",
      "source": [
        "#Loading all the 5 type of files into the Vector Database"
      ],
      "metadata": {
        "id": "nks34aFfcAq0"
      }
    },
    {
      "cell_type": "code",
      "source": [
        "pip install -U langchain-openai\n"
      ],
      "metadata": {
        "colab": {
          "base_uri": "https://localhost:8080/"
        },
        "id": "pS0ydU-oyuOh",
        "outputId": "ff260146-2a47-456b-a0c9-ba84ddd57053"
      },
      "execution_count": null,
      "outputs": [
        {
          "output_type": "stream",
          "name": "stdout",
          "text": [
            "Collecting langchain-openai\n",
            "  Downloading langchain_openai-0.3.16-py3-none-any.whl.metadata (2.3 kB)\n",
            "Requirement already satisfied: langchain-core<1.0.0,>=0.3.58 in /usr/local/lib/python3.11/dist-packages (from langchain-openai) (0.3.58)\n",
            "Requirement already satisfied: openai<2.0.0,>=1.68.2 in /usr/local/lib/python3.11/dist-packages (from langchain-openai) (1.77.0)\n",
            "Requirement already satisfied: tiktoken<1,>=0.7 in /usr/local/lib/python3.11/dist-packages (from langchain-openai) (0.9.0)\n",
            "Requirement already satisfied: langsmith<0.4,>=0.1.125 in /usr/local/lib/python3.11/dist-packages (from langchain-core<1.0.0,>=0.3.58->langchain-openai) (0.3.39)\n",
            "Requirement already satisfied: tenacity!=8.4.0,<10.0.0,>=8.1.0 in /usr/local/lib/python3.11/dist-packages (from langchain-core<1.0.0,>=0.3.58->langchain-openai) (9.1.2)\n",
            "Requirement already satisfied: jsonpatch<2.0,>=1.33 in /usr/local/lib/python3.11/dist-packages (from langchain-core<1.0.0,>=0.3.58->langchain-openai) (1.33)\n",
            "Requirement already satisfied: PyYAML>=5.3 in /usr/local/lib/python3.11/dist-packages (from langchain-core<1.0.0,>=0.3.58->langchain-openai) (6.0.2)\n",
            "Requirement already satisfied: packaging<25,>=23.2 in /usr/local/lib/python3.11/dist-packages (from langchain-core<1.0.0,>=0.3.58->langchain-openai) (24.2)\n",
            "Requirement already satisfied: typing-extensions>=4.7 in /usr/local/lib/python3.11/dist-packages (from langchain-core<1.0.0,>=0.3.58->langchain-openai) (4.13.2)\n",
            "Requirement already satisfied: pydantic<3.0.0,>=2.5.2 in /usr/local/lib/python3.11/dist-packages (from langchain-core<1.0.0,>=0.3.58->langchain-openai) (2.11.4)\n",
            "Requirement already satisfied: anyio<5,>=3.5.0 in /usr/local/lib/python3.11/dist-packages (from openai<2.0.0,>=1.68.2->langchain-openai) (4.9.0)\n",
            "Requirement already satisfied: distro<2,>=1.7.0 in /usr/local/lib/python3.11/dist-packages (from openai<2.0.0,>=1.68.2->langchain-openai) (1.9.0)\n",
            "Requirement already satisfied: httpx<1,>=0.23.0 in /usr/local/lib/python3.11/dist-packages (from openai<2.0.0,>=1.68.2->langchain-openai) (0.28.1)\n",
            "Requirement already satisfied: jiter<1,>=0.4.0 in /usr/local/lib/python3.11/dist-packages (from openai<2.0.0,>=1.68.2->langchain-openai) (0.9.0)\n",
            "Requirement already satisfied: sniffio in /usr/local/lib/python3.11/dist-packages (from openai<2.0.0,>=1.68.2->langchain-openai) (1.3.1)\n",
            "Requirement already satisfied: tqdm>4 in /usr/local/lib/python3.11/dist-packages (from openai<2.0.0,>=1.68.2->langchain-openai) (4.67.1)\n",
            "Requirement already satisfied: regex>=2022.1.18 in /usr/local/lib/python3.11/dist-packages (from tiktoken<1,>=0.7->langchain-openai) (2024.11.6)\n",
            "Requirement already satisfied: requests>=2.26.0 in /usr/local/lib/python3.11/dist-packages (from tiktoken<1,>=0.7->langchain-openai) (2.32.3)\n",
            "Requirement already satisfied: idna>=2.8 in /usr/local/lib/python3.11/dist-packages (from anyio<5,>=3.5.0->openai<2.0.0,>=1.68.2->langchain-openai) (3.10)\n",
            "Requirement already satisfied: certifi in /usr/local/lib/python3.11/dist-packages (from httpx<1,>=0.23.0->openai<2.0.0,>=1.68.2->langchain-openai) (2025.4.26)\n",
            "Requirement already satisfied: httpcore==1.* in /usr/local/lib/python3.11/dist-packages (from httpx<1,>=0.23.0->openai<2.0.0,>=1.68.2->langchain-openai) (1.0.9)\n",
            "Requirement already satisfied: h11>=0.16 in /usr/local/lib/python3.11/dist-packages (from httpcore==1.*->httpx<1,>=0.23.0->openai<2.0.0,>=1.68.2->langchain-openai) (0.16.0)\n",
            "Requirement already satisfied: jsonpointer>=1.9 in /usr/local/lib/python3.11/dist-packages (from jsonpatch<2.0,>=1.33->langchain-core<1.0.0,>=0.3.58->langchain-openai) (3.0.0)\n",
            "Requirement already satisfied: orjson<4.0.0,>=3.9.14 in /usr/local/lib/python3.11/dist-packages (from langsmith<0.4,>=0.1.125->langchain-core<1.0.0,>=0.3.58->langchain-openai) (3.10.18)\n",
            "Requirement already satisfied: requests-toolbelt<2.0.0,>=1.0.0 in /usr/local/lib/python3.11/dist-packages (from langsmith<0.4,>=0.1.125->langchain-core<1.0.0,>=0.3.58->langchain-openai) (1.0.0)\n",
            "Requirement already satisfied: zstandard<0.24.0,>=0.23.0 in /usr/local/lib/python3.11/dist-packages (from langsmith<0.4,>=0.1.125->langchain-core<1.0.0,>=0.3.58->langchain-openai) (0.23.0)\n",
            "Requirement already satisfied: annotated-types>=0.6.0 in /usr/local/lib/python3.11/dist-packages (from pydantic<3.0.0,>=2.5.2->langchain-core<1.0.0,>=0.3.58->langchain-openai) (0.7.0)\n",
            "Requirement already satisfied: pydantic-core==2.33.2 in /usr/local/lib/python3.11/dist-packages (from pydantic<3.0.0,>=2.5.2->langchain-core<1.0.0,>=0.3.58->langchain-openai) (2.33.2)\n",
            "Requirement already satisfied: typing-inspection>=0.4.0 in /usr/local/lib/python3.11/dist-packages (from pydantic<3.0.0,>=2.5.2->langchain-core<1.0.0,>=0.3.58->langchain-openai) (0.4.0)\n",
            "Requirement already satisfied: charset-normalizer<4,>=2 in /usr/local/lib/python3.11/dist-packages (from requests>=2.26.0->tiktoken<1,>=0.7->langchain-openai) (3.4.1)\n",
            "Requirement already satisfied: urllib3<3,>=1.21.1 in /usr/local/lib/python3.11/dist-packages (from requests>=2.26.0->tiktoken<1,>=0.7->langchain-openai) (2.4.0)\n",
            "Downloading langchain_openai-0.3.16-py3-none-any.whl (62 kB)\n",
            "\u001b[2K   \u001b[90m━━━━━━━━━━━━━━━━━━━━━━━━━━━━━━━━━━━━━━━━\u001b[0m \u001b[32m62.8/62.8 kB\u001b[0m \u001b[31m1.9 MB/s\u001b[0m eta \u001b[36m0:00:00\u001b[0m\n",
            "\u001b[?25hInstalling collected packages: langchain-openai\n",
            "Successfully installed langchain-openai-0.3.16\n"
          ]
        }
      ]
    },
    {
      "cell_type": "code",
      "source": [
        "from langchain_openai import OpenAIEmbeddings\n"
      ],
      "metadata": {
        "id": "p2y5uDdDyoap"
      },
      "execution_count": null,
      "outputs": []
    },
    {
      "cell_type": "code",
      "source": [
        "\n",
        "import os\n",
        "from config import OpenAIConfig\n",
        "\n",
        "config = OpenAIConfig()\n",
        "\n",
        "from langchain_community.document_loaders import (\n",
        "    PyMuPDFLoader, UnstructuredWordDocumentLoader,\n",
        "    TextLoader, CSVLoader, UnstructuredHTMLLoader\n",
        ")\n",
        "from langchain.text_splitter import RecursiveCharacterTextSplitter\n",
        "from langchain.embeddings import OpenAIEmbeddings\n",
        "from langchain.vectorstores import FAISS\n",
        "\n",
        "\n",
        "os.environ[\"OPENAI_API_KEY\"] = config.get_api_key()\n",
        "\n",
        "\n",
        "pdf_path_1 = \"/content/drive/MyDrive/Calories/All_5_files/Human Nutrition, University of Hawai‘i at Mānoa Food Science and Human Nutrition Program.pdf\"\n",
        "pdf_path_2 = \"/content/drive/MyDrive/Calories/All_5_files/Nutrition Science and Everyday Application, Alice Callahan, Heather Leonard, Med, Tamberly Powell.pdf\"\n",
        "\n",
        "\n",
        "docs = []\n",
        "\n",
        "if os.path.exists(pdf_path_1):\n",
        "    loaded = PyMuPDFLoader(pdf_path_1).load()\n",
        "    for doc in loaded:\n",
        "        doc.metadata[\"source\"] = \"diet_p1\"\n",
        "    docs.extend(loaded)\n",
        "\n",
        "if os.path.exists(pdf_path_2):\n",
        "    loaded = PyMuPDFLoader(pdf_path_2).load()\n",
        "    for doc in loaded:\n",
        "        doc.metadata[\"source\"] = \"dier_p2\"\n",
        "    docs.extend(loaded)\n",
        "\n",
        "\n",
        "splitter = RecursiveCharacterTextSplitter(chunk_size=1000, chunk_overlap=200)\n",
        "chunks = splitter.split_documents(docs)\n",
        "\n",
        "embedding_model = OpenAIEmbeddings()\n",
        "vectorstore = FAISS.from_documents(chunks, embedding_model)\n",
        "\n",
        "faiss_path = \"/content/drive/MyDrive/test_vecgtor\"\n",
        "os.makedirs(faiss_path, exist_ok=True)\n",
        "vectorstore.save_local(faiss_path)\n",
        "\n",
        "print(f\"Vectorstore saved at: {faiss_path}\")\n"
      ],
      "metadata": {
        "colab": {
          "base_uri": "https://localhost:8080/"
        },
        "id": "oJyNKk-nwyGI",
        "outputId": "e9173342-9e3e-4250-b73f-f19799376c9d"
      },
      "execution_count": null,
      "outputs": [
        {
          "output_type": "stream",
          "name": "stdout",
          "text": [
            "Vectorstore saved at: /content/drive/MyDrive/test_vecgtor\n"
          ]
        }
      ]
    },
    {
      "cell_type": "code",
      "source": [
        "\n",
        "import os\n",
        "from config import OpenAIConfig\n",
        "\n",
        "config = OpenAIConfig()\n",
        "\n",
        "from langchain_community.document_loaders import (\n",
        "    PyMuPDFLoader, UnstructuredWordDocumentLoader,\n",
        "    TextLoader, CSVLoader, UnstructuredHTMLLoader\n",
        ")\n",
        "from langchain.text_splitter import RecursiveCharacterTextSplitter\n",
        "from langchain.embeddings import OpenAIEmbeddings\n",
        "from langchain.vectorstores import FAISS\n",
        "\n",
        "\n",
        "os.environ[\"OPENAI_API_KEY\"] = config.get_api_key()\n",
        "\n",
        "\n",
        "pdf_path = \"/content/drive/MyDrive/Calories/All_5_files/Dietary_Guidelines_for_Americans_2020-2025.pdf\"\n",
        "docx_path = \"/content/drive/MyDrive/Calories/All_5_files/Physical_Activity_Guidelines_2nd_edition.docx\"\n",
        "txt_path = \"/content/drive/MyDrive/Calories/All_5_files/Weight Myths.txt\"\n",
        "csv_path = \"/content/drive/MyDrive/Calories/All_5_files/GymDataset.csv\"\n",
        "html_gain_path = \"/content/drive/MyDrive/Calories/All_5_files/11 Tips To Build Muscle.html\"\n",
        "html_loss_path = \"/content/drive/MyDrive/Calories/All_5_files/The Science of Weight Loss.html\"\n",
        "pdf_path_1 = \"/content/drive/MyDrive/Calories/All_5_files/Human Nutrition, University of Hawai‘i at Mānoa Food Science and Human Nutrition Program.pdf\"\n",
        "pdf_path_2 = \"/content/drive/MyDrive/Calories/All_5_files/Nutrition Science and Everyday Application, Alice Callahan, Heather Leonard, Med, Tamberly Powell.pdf\"\n",
        "\n",
        "docs = []\n",
        "\n",
        "if os.path.exists(pdf_path):\n",
        "    loaded = PyMuPDFLoader(pdf_path).load()\n",
        "    for doc in loaded:\n",
        "        doc.metadata[\"source\"] = \"diet\"\n",
        "    docs.extend(loaded)\n",
        "\n",
        "if os.path.exists(docx_path):\n",
        "    loaded = UnstructuredWordDocumentLoader(docx_path).load()\n",
        "    for doc in loaded:\n",
        "        doc.metadata[\"source\"] = \"physical\"\n",
        "    docs.extend(loaded)\n",
        "\n",
        "if os.path.exists(txt_path):\n",
        "    loaded = TextLoader(txt_path).load()\n",
        "    for doc in loaded:\n",
        "        doc.metadata[\"source\"] = \"Weight\"\n",
        "    docs.extend(loaded)\n",
        "\n",
        "if os.path.exists(csv_path):\n",
        "    loaded = CSVLoader(csv_path).load()\n",
        "    for doc in loaded:\n",
        "        doc.metadata[\"source\"] = \"GymDataset\"\n",
        "    docs.extend(loaded)\n",
        "\n",
        "if os.path.exists(html_gain_path):\n",
        "    loaded = UnstructuredHTMLLoader(html_gain_path).load()\n",
        "    for doc in loaded:\n",
        "        doc.metadata[\"source\"] = \"weight_gain\"\n",
        "    docs.extend(loaded)\n",
        "\n",
        "if os.path.exists(html_loss_path):\n",
        "    loaded = UnstructuredHTMLLoader(html_loss_path).load()\n",
        "    for doc in loaded:\n",
        "        doc.metadata[\"source\"] = \"weight_loss\"\n",
        "    docs.extend(loaded)\n",
        "if os.path.exists(pdf_path_1):\n",
        "    loaded = PyMuPDFLoader(pdf_path_1).load()\n",
        "    for doc in loaded:\n",
        "        doc.metadata[\"source\"] = \"Human_Nut\"\n",
        "    docs.extend(loaded)\n",
        "\n",
        "if os.path.exists(pdf_path_2):\n",
        "    loaded = PyMuPDFLoader(pdf_path_2).load()\n",
        "    for doc in loaded:\n",
        "        doc.metadata[\"source\"] = \"Nut_Science\"\n",
        "    docs.extend(loaded)\n",
        "\n",
        "splitter = RecursiveCharacterTextSplitter(chunk_size=1000, chunk_overlap=200)\n",
        "chunks = splitter.split_documents(docs)\n",
        "\n",
        "embedding_model = OpenAIEmbeddings()\n",
        "vectorstore = FAISS.from_documents(chunks, embedding_model)\n",
        "\n",
        "faiss_path = \"/content/drive/MyDrive/vector\"\n",
        "os.makedirs(faiss_path, exist_ok=True)\n",
        "vectorstore.save_local(faiss_path)\n",
        "\n",
        "print(f\"Vectorstore saved at: {faiss_path}\")\n"
      ],
      "metadata": {
        "colab": {
          "base_uri": "https://localhost:8080/"
        },
        "id": "Fy22oW92Tikm",
        "outputId": "fa1de377-68aa-4087-9866-7d8501720243"
      },
      "execution_count": null,
      "outputs": [
        {
          "output_type": "stream",
          "name": "stdout",
          "text": [
            "Vectorstore saved at: /content/drive/MyDrive/vector\n"
          ]
        }
      ]
    },
    {
      "cell_type": "code",
      "source": [
        "def ask_query_with_context(query: str, faiss_path: str, model_name: str = \"gpt-3.5-turbo\"):\n",
        "    from langchain.vectorstores import FAISS\n",
        "    from langchain.embeddings import OpenAIEmbeddings\n",
        "    from langchain.chat_models import ChatOpenAI\n",
        "    from langchain.chains.qa_with_sources import load_qa_with_sources_chain\n",
        "\n",
        "\n",
        "    embeddings = OpenAIEmbeddings()\n",
        "    vectorstore = FAISS.load_local(faiss_path, embeddings, allow_dangerous_deserialization=True)\n",
        "\n",
        "\n",
        "    retriever = vectorstore.as_retriever(search_kwargs={\"k\": 5})\n",
        "    relevant_docs = retriever.get_relevant_documents(query)\n",
        "\n",
        "    context_text = \"\\n\\n\".join([doc.page_content for doc in relevant_docs])\n",
        "    prompt = f\"\"\"Answer the following question using only the context below.\n",
        "\n",
        "Context:\n",
        "{context_text}\n",
        "\n",
        "Question: {query}\n",
        "Answer:\"\"\"\n",
        "\n",
        "\n",
        "    llm = ChatOpenAI(model=model_name, temperature=0)\n",
        "    chain = load_qa_with_sources_chain(llm, chain_type=\"stuff\")\n",
        "\n",
        "    result = chain(\n",
        "        {\"question\": query, \"input_documents\": relevant_docs},\n",
        "        return_only_outputs=True\n",
        "    )\n",
        "\n",
        "\n",
        "    print(\"Returned keys from chain:\", result.keys())\n",
        "\n",
        "    return {\n",
        "        \"prompt\": prompt,\n",
        "        \"response\": result.get(\"output_text\", \"No response available.\"),\n",
        "        \"context_chunks\": [doc.page_content for doc in relevant_docs]\n",
        "    }\n"
      ],
      "metadata": {
        "id": "qgEoBGrGdcv9"
      },
      "execution_count": null,
      "outputs": []
    },
    {
      "cell_type": "code",
      "source": [
        "faiss_path = \"/content/drive/MyDrive/vector\"\n",
        "query = \"What are the dietary guidelines for protein intake?\"\n",
        "\n",
        "output = ask_query_with_context(query, faiss_path)\n",
        "\n",
        "print(\"\\n Prompt:\\n\", output[\"prompt\"])\n",
        "print(\"\\n GPT Response:\\n\", output[\"response\"])\n",
        "print(\"\\nContext Chunks:\")\n",
        "for i, chunk in enumerate(output[\"context_chunks\"], 1):\n",
        "    print(f\"\\nChunk {i}:\\n{chunk}\")\n"
      ],
      "metadata": {
        "colab": {
          "base_uri": "https://localhost:8080/"
        },
        "id": "wq1cvt_bdtoc",
        "outputId": "ecfc8e9a-c3a9-4e86-979f-0ccd42d52f20"
      },
      "execution_count": null,
      "outputs": [
        {
          "output_type": "stream",
          "name": "stdout",
          "text": [
            "Returned keys from chain: dict_keys(['output_text'])\n",
            "\n",
            " Prompt:\n",
            " Answer the following question using only the context below.\n",
            "\n",
            "Context:\n",
            "https://openoregon.pressbooks.pub/nutritionscience2e/?p=315#h5p-41 \n",
            "Attributions: \n",
            "• Lindshield, B. L. Kansas State University Human Nutrition (FNDH 400) Flexbook. goo.gl/\n",
            "vOAnR, CC BY-NC-SA 4.0 \n",
            "• “Diseases Involving Proteins”, section 6.5 from the book An Introduction to Nutrition (v. 1.0), \n",
            "CC BY-NC-SA 3.0 \n",
            "References: \n",
            "• 1Food and Nutrition Board, & Institute of Medicine. (2005). Dietary Reference Intakes for \n",
            "Energy, Carbohydrate, Fiber, Fat, Fatty Acids, Cholesterol, Protein, and Amino Acids (p. 1359). \n",
            "Washington, D.C.: The National Academies Press. \n",
            "• 2Berryman, C. E., Lieberman, H. R., Fulgoni, V. L., & Pasiakos, S. M. (2018). Protein intake \n",
            "trends and conformity with the Dietary Reference Intakes in the United States: Analysis of \n",
            "the National Health and Nutrition Examination Survey, 2001-2014. The American Journal of \n",
            "Clinical Nutrition, 108(2), 405–413. https://doi.org/10.1093/ajcn/nqy088\n",
            "\n",
            "Protein in Foods and Dietary Recommendations \n",
            "In this section, we’ll discuss how to determine how much protein you need and your many choices in \n",
            "designing an optimal diet with high-quality protein sources. \n",
            "HOW MUCH DIETARY PROTEIN DOES A PERSON NEED? \n",
            "Because our bodies are so efficient at recycling amino acids, protein needs are not as high as \n",
            "carbohydrate and fat needs. The Recommended Dietary Allowance (RDA) for a sedentary adult \n",
            "is 0.8 g per kg body weight per day. This would mean that a 165-pound man and a 143-pound \n",
            "woman would need 60 g and 52 g of protein per day, respectively. The Acceptable Macronutrient \n",
            "Distribution Range (AMDR) for protein for adults is 10% to 35% of total energy intake. A \n",
            "Tolerable Upper Intake Limit for protein has not been set, but it is recommended that you not exceed \n",
            "the upper end of the AMDR. \n",
            "Protein needs are higher for the following populations: \n",
            "• growing children and adolescents\n",
            "\n",
            "Proteins, Diet, and Personal \n",
            "Choices \n",
            "UNIVERSITY OF HAWAI‘I AT MĀNOA FOOD SCIENCE AND HUMAN \n",
            "NUTRITION PROGRAM AND HUMAN NUTRITION PROGRAM \n",
            "We have discussed what proteins are, how they are made, how they \n",
            "are digested and absorbed, the many functions of proteins in the \n",
            "body, and the consequences of having too little or too much protein \n",
            "in the diet. This section will provide you with information on how to \n",
            "determine the recommended amount of protein for you, and your \n",
            "many choices in designing an optimal diet with high-quality protein \n",
            "sources. \n",
            "How Much Protein Does a Person Need in Their \n",
            "Diet? \n",
            "The recommendations set by the IOM for the Recommended Daily \n",
            "Allowance (RDA) and AMDR for protein for different age groups \n",
            "are listed in Table 6.2 “Dietary Reference Intakes for Protein”. A \n",
            "Tolerable Upper Intake Limit for protein has not been set, but it is \n",
            "recommended that you do not exceed the upper end of the AMDR. \n",
            "Table 6.2 Dietary Reference Intakes for Protein\n",
            "\n",
            "or when reducing energy intake.5 See Table 16.2 “Recommended \n",
            "Protein Intakes for Athletes” below for a better representation of \n",
            "protein needs depending on extent of training and dietary sources. \n",
            "Table 16.2 The Recommended Protein Intakes for Individuals \n",
            "Group \n",
            "Protein Intake (g/kg body weight) \n",
            "Most adults \n",
            "0.8 \n",
            "Endurance athletes \n",
            "1.2 to 1.4 \n",
            "Vegetarian endurance athletes 1.3 to 1.5 \n",
            "Strength athletes \n",
            "1.6 to 1.7 \n",
            "Vegetarian strength athletes \n",
            "1.7 to 1.8 \n",
            "Source: Dietary Reference Intakes, 2002 ACSM/ADA/Dietitians of \n",
            "Canada Position Statement: Nutrition & Athletic Performance, 2001. \n",
            "Accessed March 17, 2018. \n",
            "It is important to consume adequate amounts of protein and to \n",
            "understand that the quality of the protein consumed affects the \n",
            "amount needed. High protein foods such as meats, dairy, and eggs \n",
            "contain all of the essential amino acids in relative amounts that \n",
            "most efficiently meet the body’s needs for growth, maintenance and\n",
            "\n",
            "Age Group \n",
            "RDA (g/day) AMDR (% calories) \n",
            "Infants (0–6 mo) \n",
            "9.1* \n",
            "Not determined \n",
            "Infants (7–12 mo) \n",
            "11.0 \n",
            "Not determined \n",
            "Children (1–3) \n",
            "13.0 \n",
            "5–20 \n",
            "Children (4–8) \n",
            "19.0 \n",
            "10–30 \n",
            "Children (9–13) \n",
            "34.0 \n",
            "10–30 \n",
            "Males (14–18) \n",
            "52.0 \n",
            "10–30 \n",
            "Females (14–18) \n",
            "46.0 \n",
            "10–30 \n",
            "Adult Males (19+) \n",
            "56.0 \n",
            "10–35 \n",
            "Adult Females (19+) \n",
            "46.0 \n",
            "10–35 \n",
            "* Denotes Adequate Intake \n",
            "Source: Dietary Reference Intakes: Macronutrients. Dietary \n",
            "Reference Intakes for Energy, Carbohydrate, Fiber, Fat, Fatty Acids, \n",
            "Cholesterol, Protein, and Amino Acids. Institute of Medicine. \n",
            "September 5, 2002. Accessed September 28, 2017. \n",
            "Protein Input = Protein Used by the Body + Protein Excreted \n",
            "The appropriate amount of protein in a person’s diet is that which \n",
            "maintains a balance between what is taken in and what is used. The \n",
            "RDAs for protein were determined by assessing nitrogen balance. \n",
            "Nitrogen is one of the four basic elements contained in all amino \n",
            "acids. When proteins are broken down and amino acids are\n",
            "\n",
            "Question: What are the dietary guidelines for protein intake?\n",
            "Answer:\n",
            "\n",
            " GPT Response:\n",
            " The Recommended Dietary Allowance (RDA) for a sedentary adult is 0.8 g per kg body weight per day. The Acceptable Macronutrient Distribution Range (AMDR) for protein for adults is 10% to 35% of total energy intake. Protein needs are higher for growing children and adolescents. Endurance athletes, strength athletes, and vegetarian athletes have higher protein intake recommendations. \n",
            "SOURCES: Nut_Science, Human_Nut\n",
            "\n",
            "Context Chunks:\n",
            "\n",
            "Chunk 1:\n",
            "https://openoregon.pressbooks.pub/nutritionscience2e/?p=315#h5p-41 \n",
            "Attributions: \n",
            "• Lindshield, B. L. Kansas State University Human Nutrition (FNDH 400) Flexbook. goo.gl/\n",
            "vOAnR, CC BY-NC-SA 4.0 \n",
            "• “Diseases Involving Proteins”, section 6.5 from the book An Introduction to Nutrition (v. 1.0), \n",
            "CC BY-NC-SA 3.0 \n",
            "References: \n",
            "• 1Food and Nutrition Board, & Institute of Medicine. (2005). Dietary Reference Intakes for \n",
            "Energy, Carbohydrate, Fiber, Fat, Fatty Acids, Cholesterol, Protein, and Amino Acids (p. 1359). \n",
            "Washington, D.C.: The National Academies Press. \n",
            "• 2Berryman, C. E., Lieberman, H. R., Fulgoni, V. L., & Pasiakos, S. M. (2018). Protein intake \n",
            "trends and conformity with the Dietary Reference Intakes in the United States: Analysis of \n",
            "the National Health and Nutrition Examination Survey, 2001-2014. The American Journal of \n",
            "Clinical Nutrition, 108(2), 405–413. https://doi.org/10.1093/ajcn/nqy088\n",
            "\n",
            "Chunk 2:\n",
            "Protein in Foods and Dietary Recommendations \n",
            "In this section, we’ll discuss how to determine how much protein you need and your many choices in \n",
            "designing an optimal diet with high-quality protein sources. \n",
            "HOW MUCH DIETARY PROTEIN DOES A PERSON NEED? \n",
            "Because our bodies are so efficient at recycling amino acids, protein needs are not as high as \n",
            "carbohydrate and fat needs. The Recommended Dietary Allowance (RDA) for a sedentary adult \n",
            "is 0.8 g per kg body weight per day. This would mean that a 165-pound man and a 143-pound \n",
            "woman would need 60 g and 52 g of protein per day, respectively. The Acceptable Macronutrient \n",
            "Distribution Range (AMDR) for protein for adults is 10% to 35% of total energy intake. A \n",
            "Tolerable Upper Intake Limit for protein has not been set, but it is recommended that you not exceed \n",
            "the upper end of the AMDR. \n",
            "Protein needs are higher for the following populations: \n",
            "• growing children and adolescents\n",
            "\n",
            "Chunk 3:\n",
            "Proteins, Diet, and Personal \n",
            "Choices \n",
            "UNIVERSITY OF HAWAI‘I AT MĀNOA FOOD SCIENCE AND HUMAN \n",
            "NUTRITION PROGRAM AND HUMAN NUTRITION PROGRAM \n",
            "We have discussed what proteins are, how they are made, how they \n",
            "are digested and absorbed, the many functions of proteins in the \n",
            "body, and the consequences of having too little or too much protein \n",
            "in the diet. This section will provide you with information on how to \n",
            "determine the recommended amount of protein for you, and your \n",
            "many choices in designing an optimal diet with high-quality protein \n",
            "sources. \n",
            "How Much Protein Does a Person Need in Their \n",
            "Diet? \n",
            "The recommendations set by the IOM for the Recommended Daily \n",
            "Allowance (RDA) and AMDR for protein for different age groups \n",
            "are listed in Table 6.2 “Dietary Reference Intakes for Protein”. A \n",
            "Tolerable Upper Intake Limit for protein has not been set, but it is \n",
            "recommended that you do not exceed the upper end of the AMDR. \n",
            "Table 6.2 Dietary Reference Intakes for Protein\n",
            "\n",
            "Chunk 4:\n",
            "or when reducing energy intake.5 See Table 16.2 “Recommended \n",
            "Protein Intakes for Athletes” below for a better representation of \n",
            "protein needs depending on extent of training and dietary sources. \n",
            "Table 16.2 The Recommended Protein Intakes for Individuals \n",
            "Group \n",
            "Protein Intake (g/kg body weight) \n",
            "Most adults \n",
            "0.8 \n",
            "Endurance athletes \n",
            "1.2 to 1.4 \n",
            "Vegetarian endurance athletes 1.3 to 1.5 \n",
            "Strength athletes \n",
            "1.6 to 1.7 \n",
            "Vegetarian strength athletes \n",
            "1.7 to 1.8 \n",
            "Source: Dietary Reference Intakes, 2002 ACSM/ADA/Dietitians of \n",
            "Canada Position Statement: Nutrition & Athletic Performance, 2001. \n",
            "Accessed March 17, 2018. \n",
            "It is important to consume adequate amounts of protein and to \n",
            "understand that the quality of the protein consumed affects the \n",
            "amount needed. High protein foods such as meats, dairy, and eggs \n",
            "contain all of the essential amino acids in relative amounts that \n",
            "most efficiently meet the body’s needs for growth, maintenance and\n",
            "\n",
            "Chunk 5:\n",
            "Age Group \n",
            "RDA (g/day) AMDR (% calories) \n",
            "Infants (0–6 mo) \n",
            "9.1* \n",
            "Not determined \n",
            "Infants (7–12 mo) \n",
            "11.0 \n",
            "Not determined \n",
            "Children (1–3) \n",
            "13.0 \n",
            "5–20 \n",
            "Children (4–8) \n",
            "19.0 \n",
            "10–30 \n",
            "Children (9–13) \n",
            "34.0 \n",
            "10–30 \n",
            "Males (14–18) \n",
            "52.0 \n",
            "10–30 \n",
            "Females (14–18) \n",
            "46.0 \n",
            "10–30 \n",
            "Adult Males (19+) \n",
            "56.0 \n",
            "10–35 \n",
            "Adult Females (19+) \n",
            "46.0 \n",
            "10–35 \n",
            "* Denotes Adequate Intake \n",
            "Source: Dietary Reference Intakes: Macronutrients. Dietary \n",
            "Reference Intakes for Energy, Carbohydrate, Fiber, Fat, Fatty Acids, \n",
            "Cholesterol, Protein, and Amino Acids. Institute of Medicine. \n",
            "September 5, 2002. Accessed September 28, 2017. \n",
            "Protein Input = Protein Used by the Body + Protein Excreted \n",
            "The appropriate amount of protein in a person’s diet is that which \n",
            "maintains a balance between what is taken in and what is used. The \n",
            "RDAs for protein were determined by assessing nitrogen balance. \n",
            "Nitrogen is one of the four basic elements contained in all amino \n",
            "acids. When proteins are broken down and amino acids are\n"
          ]
        }
      ]
    },
    {
      "cell_type": "code",
      "source": [],
      "metadata": {
        "id": "oii1T_-IdvnC"
      },
      "execution_count": null,
      "outputs": []
    }
  ]
}